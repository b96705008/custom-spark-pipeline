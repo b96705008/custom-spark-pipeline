{
 "cells": [
  {
   "cell_type": "markdown",
   "metadata": {},
   "source": [
    "# Setup"
   ]
  },
  {
   "cell_type": "code",
   "execution_count": 1,
   "metadata": {
    "collapsed": true
   },
   "outputs": [],
   "source": [
    "from __future__ import print_function\n",
    "from __future__ import division\n",
    "from __future__ import unicode_literals"
   ]
  },
  {
   "cell_type": "code",
   "execution_count": 2,
   "metadata": {
    "collapsed": true
   },
   "outputs": [],
   "source": [
    "from pyspark.ml.pipeline import Estimator, Model, Pipeline, PipelineModel\n",
    "from pyspark.ml.param.shared import *\n",
    "import pyspark.sql.functions as F"
   ]
  },
  {
   "cell_type": "code",
   "execution_count": 6,
   "metadata": {},
   "outputs": [
    {
     "data": {
      "text/plain": [
       "(<pyspark.sql.session.SparkSession at 0x10e638090>,\n",
       " <pyspark.context.SparkContext at 0x10e546e50>,\n",
       " <bound method SparkSession.sql of <pyspark.sql.session.SparkSession object at 0x10e638090>>)"
      ]
     },
     "execution_count": 6,
     "metadata": {},
     "output_type": "execute_result"
    }
   ],
   "source": [
    "spark, sc, sql"
   ]
  },
  {
   "cell_type": "markdown",
   "metadata": {},
   "source": [
    "# Sample Dataset"
   ]
  },
  {
   "cell_type": "code",
   "execution_count": 8,
   "metadata": {
    "collapsed": true
   },
   "outputs": [],
   "source": [
    "df = sc.parallelize([\n",
    "        (1, 'a', 'A', None), \n",
    "        (2, 'a', 'B', 30.3), \n",
    "        (3, 'b', 'B', 27.8), \n",
    "        (4, 'c', None, 31.2), \n",
    "        (5, None, 'B', 32.5)]) \\\n",
    "    .toDF([\"id\", \"x1\", 'x2', 'score'])"
   ]
  },
  {
   "cell_type": "code",
   "execution_count": 9,
   "metadata": {},
   "outputs": [
    {
     "name": "stdout",
     "output_type": "stream",
     "text": [
      "+---+----+----+-----+\n",
      "| id|  x1|  x2|score|\n",
      "+---+----+----+-----+\n",
      "|  1|   a|   A| null|\n",
      "|  2|   a|   B| 30.3|\n",
      "|  3|   b|   B| 27.8|\n",
      "|  4|   c|null| 31.2|\n",
      "|  5|null|   B| 32.5|\n",
      "+---+----+----+-----+\n",
      "\n"
     ]
    }
   ],
   "source": [
    "df.show()"
   ]
  },
  {
   "cell_type": "markdown",
   "metadata": {},
   "source": [
    "# Default Params IO"
   ]
  },
  {
   "cell_type": "code",
   "execution_count": 56,
   "metadata": {
    "collapsed": true
   },
   "outputs": [],
   "source": [
    "import os"
   ]
  },
  {
   "cell_type": "markdown",
   "metadata": {},
   "source": [
    "# Tykuo Imputer"
   ]
  },
  {
   "cell_type": "code",
   "execution_count": 69,
   "metadata": {
    "collapsed": true
   },
   "outputs": [],
   "source": [
    "class HasImputeValue(Params):\n",
    "    \n",
    "    impute_value = Param(Params._dummy(),\n",
    "                         'impute_value', \n",
    "                         'value imputed to missing column')\n",
    "    \n",
    "    def __init__(self):\n",
    "        super(HasImputeValue, self).__init__()\n",
    "    \n",
    "    def setImputeValue(self, value):\n",
    "        return self._set(impute_value=value)\n",
    "    \n",
    "    def getImputeValue(self):\n",
    "        return self.getOrDefault(self.impute_value)"
   ]
  },
  {
   "cell_type": "code",
   "execution_count": 74,
   "metadata": {
    "collapsed": true
   },
   "outputs": [],
   "source": [
    "class TykuoImputerModel(Model, HasInputCol, HasOutputCol, HasImputeValue):\n",
    "    \n",
    "    def _transform(self, dataset):\n",
    "        x = self.getInputCol()\n",
    "        y = self.getOutputCol()\n",
    "        impute_value = self.getImputeValue()\n",
    "        imputed_df = dataset.withColumn(\n",
    "            y, F.when(F.col(x).isNull(), impute_value).otherwise(F.col(x)))\n",
    "        \n",
    "        return imputed_df"
   ]
  },
  {
   "cell_type": "code",
   "execution_count": 131,
   "metadata": {
    "collapsed": true
   },
   "outputs": [],
   "source": [
    "class ImputeValueGenerator(object):\n",
    "    \n",
    "    def generate(self, dataset, inputCol):\n",
    "        raise NotImplementedError"
   ]
  },
  {
   "cell_type": "code",
   "execution_count": 132,
   "metadata": {
    "collapsed": true
   },
   "outputs": [],
   "source": [
    "class ModeGenerator(ImputeValueGenerator):\n",
    "    \n",
    "    def generate(self, dataset, inputCol):\n",
    "        impute_val = None\n",
    "        \n",
    "        if inputCol is None:\n",
    "            return impute_val\n",
    "        \n",
    "        rows = dataset.where('{} is not null'.format(inputCol)) \\\n",
    "            .groupBy(inputCol) \\\n",
    "            .agg(F.count('*').alias('count')) \\\n",
    "            .orderBy(F.desc('count')) \\\n",
    "            .take(1)\n",
    "        \n",
    "        if len(rows) > 0:\n",
    "            impute_val = rows[0][inputCol]\n",
    "        \n",
    "        return impute_val"
   ]
  },
  {
   "cell_type": "code",
   "execution_count": 133,
   "metadata": {},
   "outputs": [
    {
     "data": {
      "text/plain": [
       "u'a'"
      ]
     },
     "execution_count": 133,
     "metadata": {},
     "output_type": "execute_result"
    }
   ],
   "source": [
    "ModeGenerator().generate(df, 'x1')"
   ]
  },
  {
   "cell_type": "code",
   "execution_count": 134,
   "metadata": {
    "collapsed": true
   },
   "outputs": [],
   "source": [
    "class MedianGenerator(ImputeValueGenerator):\n",
    "    \n",
    "    def generate(self, dataset, inputCol):\n",
    "        impute_val = None\n",
    "        \n",
    "        if inputCol is None:\n",
    "            return impute_val\n",
    "        \n",
    "        impute_val = dataset \\\n",
    "            .approxQuantile(str(inputCol), [0.5], 0.25)\n",
    "        \n",
    "        if isinstance(impute_val, list):\n",
    "            impute_val = impute_val[0]\n",
    "            \n",
    "        return impute_val"
   ]
  },
  {
   "cell_type": "code",
   "execution_count": 135,
   "metadata": {},
   "outputs": [
    {
     "data": {
      "text/plain": [
       "30.3"
      ]
     },
     "execution_count": 135,
     "metadata": {},
     "output_type": "execute_result"
    }
   ],
   "source": [
    "MedianGenerator().generate(df, 'score')"
   ]
  },
  {
   "cell_type": "code",
   "execution_count": 136,
   "metadata": {},
   "outputs": [],
   "source": [
    "class MeanGenerator(ImputeValueGenerator):\n",
    "    \n",
    "    def generate(self, dataset, inputCol):\n",
    "        agg_func = 'mean'\n",
    "        impute_val = None\n",
    "        \n",
    "        if inputCol is None:\n",
    "            return impute_val\n",
    "        \n",
    "        impute_val = dataset \\\n",
    "            .agg(F.mean(inputCol).alias(agg_func)) \\\n",
    "            .take(1)\n",
    "        \n",
    "        if len(impute_val) > 0:\n",
    "            impute_val = impute_val[0][agg_func]\n",
    "            \n",
    "        return impute_val"
   ]
  },
  {
   "cell_type": "code",
   "execution_count": 137,
   "metadata": {},
   "outputs": [
    {
     "data": {
      "text/plain": [
       "30.45"
      ]
     },
     "execution_count": 137,
     "metadata": {},
     "output_type": "execute_result"
    }
   ],
   "source": [
    "MeanGenerator().generate(df, 'score')"
   ]
  },
  {
   "cell_type": "code",
   "execution_count": 147,
   "metadata": {
    "collapsed": true
   },
   "outputs": [],
   "source": [
    "class HasImputeStrategy(Params):\n",
    "    \n",
    "    strategy = Param(Params._dummy(),\n",
    "                         'strategy', \n",
    "                         'strategy to impute value',\n",
    "                         typeConverter=TypeConverters.toString)\n",
    "    \n",
    "    def __init__(self):\n",
    "        super(HasImputeStrategy, self).__init__()\n",
    "        self._setDefault(strategy='median')\n",
    "    \n",
    "    def setStrategy(self, value):\n",
    "        return self._set(strategy=value)\n",
    "    \n",
    "    def getStrategy(self):\n",
    "        return self.getOrDefault(self.strategy)"
   ]
  },
  {
   "cell_type": "code",
   "execution_count": 157,
   "metadata": {
    "collapsed": true
   },
   "outputs": [],
   "source": [
    "class TykuoImputer(Estimator, HasInputCol, HasOutputCol, HasImputeStrategy):\n",
    "    \n",
    "    def get_value_generator(self, strategy='median'):\n",
    "        if strategy == 'median':\n",
    "            return MedianGenerator()\n",
    "        elif strategy == 'mean':\n",
    "            return MeanGenerator()\n",
    "        elif strategy == 'mode':\n",
    "            return ModeGenerator()\n",
    "        else:\n",
    "            raise Exception('Strategy should only be median, mean or mode')\n",
    "    \n",
    "    def _fit(self, dataset):\n",
    "        # get value generator\n",
    "        strategy = self.getStrategy()\n",
    "        value_gen = self.get_value_generator(strategy)\n",
    "        \n",
    "        # compute value to be imputed\n",
    "        x = self.getInputCol()\n",
    "        impute_value = value_gen.generate(dataset, x)\n",
    "        \n",
    "        # create impute model\n",
    "        impute_model = TykuoImputerModel() \\\n",
    "            .setInputCol(x) \\\n",
    "            .setOutputCol(self.getOutputCol()) \\\n",
    "            .setImputeValue(impute_value)\n",
    "            \n",
    "        return impute_model"
   ]
  },
  {
   "cell_type": "markdown",
   "metadata": {},
   "source": [
    "# Try TykuoImputer"
   ]
  },
  {
   "cell_type": "code",
   "execution_count": 158,
   "metadata": {},
   "outputs": [],
   "source": [
    "impute_model = TykuoImputer() \\\n",
    "    .setInputCol('score') \\\n",
    "    .setOutputCol('score_imp') \\\n",
    "    .setStrategy('median') \\\n",
    "    .fit(df)"
   ]
  },
  {
   "cell_type": "code",
   "execution_count": 159,
   "metadata": {},
   "outputs": [
    {
     "name": "stdout",
     "output_type": "stream",
     "text": [
      "+---+----+----+-----+---------+\n",
      "| id|  x1|  x2|score|score_imp|\n",
      "+---+----+----+-----+---------+\n",
      "|  1|   a|   A| null|     30.3|\n",
      "|  2|   a|   B| 30.3|     30.3|\n",
      "|  3|   b|   B| 27.8|     27.8|\n",
      "|  4|   c|null| 31.2|     31.2|\n",
      "|  5|null|   B| 32.5|     32.5|\n",
      "+---+----+----+-----+---------+\n",
      "\n"
     ]
    }
   ],
   "source": [
    "impute_model.transform(df).show()"
   ]
  },
  {
   "cell_type": "code",
   "execution_count": 160,
   "metadata": {},
   "outputs": [
    {
     "name": "stdout",
     "output_type": "stream",
     "text": [
      "+---+----+----+-----+---------+\n",
      "| id|  x1|  x2|score|score_imp|\n",
      "+---+----+----+-----+---------+\n",
      "|  1|   a|   A| null|    30.45|\n",
      "|  2|   a|   B| 30.3|     30.3|\n",
      "|  3|   b|   B| 27.8|     27.8|\n",
      "|  4|   c|null| 31.2|     31.2|\n",
      "|  5|null|   B| 32.5|     32.5|\n",
      "+---+----+----+-----+---------+\n",
      "\n"
     ]
    }
   ],
   "source": [
    "TykuoImputer() \\\n",
    "    .setInputCol('score') \\\n",
    "    .setOutputCol('score_imp') \\\n",
    "    .setStrategy('mean') \\\n",
    "    .fit(df).transform(df).show()"
   ]
  },
  {
   "cell_type": "code",
   "execution_count": 161,
   "metadata": {},
   "outputs": [
    {
     "name": "stdout",
     "output_type": "stream",
     "text": [
      "+---+----+----+-----+------+\n",
      "| id|  x1|  x2|score|x1_imp|\n",
      "+---+----+----+-----+------+\n",
      "|  1|   a|   A| null|     a|\n",
      "|  2|   a|   B| 30.3|     a|\n",
      "|  3|   b|   B| 27.8|     b|\n",
      "|  4|   c|null| 31.2|     c|\n",
      "|  5|null|   B| 32.5|     a|\n",
      "+---+----+----+-----+------+\n",
      "\n"
     ]
    }
   ],
   "source": [
    "TykuoImputer() \\\n",
    "    .setInputCol('x1') \\\n",
    "    .setOutputCol('x1_imp') \\\n",
    "    .setStrategy('mode') \\\n",
    "    .fit(df).transform(df).show()"
   ]
  },
  {
   "cell_type": "code",
   "execution_count": null,
   "metadata": {
    "collapsed": true
   },
   "outputs": [],
   "source": []
  }
 ],
 "metadata": {
  "kernelspec": {
   "display_name": "Python 2",
   "language": "python",
   "name": "python2"
  },
  "language_info": {
   "codemirror_mode": {
    "name": "ipython",
    "version": 2
   },
   "file_extension": ".py",
   "mimetype": "text/x-python",
   "name": "python",
   "nbconvert_exporter": "python",
   "pygments_lexer": "ipython2",
   "version": "2.7.13"
  }
 },
 "nbformat": 4,
 "nbformat_minor": 2
}
