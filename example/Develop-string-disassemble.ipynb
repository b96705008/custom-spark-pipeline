{
 "cells": [
  {
   "cell_type": "markdown",
   "metadata": {},
   "source": [
    "# Setup"
   ]
  },
  {
   "cell_type": "code",
   "execution_count": 1,
   "metadata": {
    "collapsed": true
   },
   "outputs": [],
   "source": [
    "from __future__ import print_function\n",
    "from __future__ import division\n",
    "from __future__ import unicode_literals"
   ]
  },
  {
   "cell_type": "code",
   "execution_count": 2,
   "metadata": {
    "collapsed": true
   },
   "outputs": [],
   "source": [
    "from pyspark.ml.pipeline import Estimator, Model, Pipeline, PipelineModel\n",
    "from pyspark.ml.param.shared import *\n",
    "import pyspark.sql.functions as F"
   ]
  },
  {
   "cell_type": "code",
   "execution_count": 3,
   "metadata": {},
   "outputs": [
    {
     "data": {
      "text/plain": [
       "(<pyspark.sql.session.SparkSession at 0x109b16090>,\n",
       " <pyspark.context.SparkContext at 0x109a24e50>,\n",
       " <bound method SparkSession.sql of <pyspark.sql.session.SparkSession object at 0x109b16090>>)"
      ]
     },
     "execution_count": 3,
     "metadata": {},
     "output_type": "execute_result"
    }
   ],
   "source": [
    "spark, sc, sql"
   ]
  },
  {
   "cell_type": "markdown",
   "metadata": {},
   "source": [
    "# Sample Dataset"
   ]
  },
  {
   "cell_type": "code",
   "execution_count": 4,
   "metadata": {
    "collapsed": true
   },
   "outputs": [],
   "source": [
    "df = sc.parallelize([\n",
    "        (1, 'a', 'A', None), \n",
    "        (2, 'a', 'B', 30.3), \n",
    "        (3, 'b', 'B', 27.8), \n",
    "        (4, 'c', None, 31.2), \n",
    "        (5, None, 'B', 32.5)]) \\\n",
    "    .toDF([\"id\", \"x1\", 'x2', 'score'])"
   ]
  },
  {
   "cell_type": "code",
   "execution_count": 5,
   "metadata": {},
   "outputs": [
    {
     "name": "stdout",
     "output_type": "stream",
     "text": [
      "+---+----+----+-----+\n",
      "| id|  x1|  x2|score|\n",
      "+---+----+----+-----+\n",
      "|  1|   a|   A| null|\n",
      "|  2|   a|   B| 30.3|\n",
      "|  3|   b|   B| 27.8|\n",
      "|  4|   c|null| 31.2|\n",
      "|  5|null|   B| 32.5|\n",
      "+---+----+----+-----+\n",
      "\n"
     ]
    }
   ],
   "source": [
    "df.show()"
   ]
  },
  {
   "cell_type": "markdown",
   "metadata": {},
   "source": [
    "# String Disassembler"
   ]
  },
  {
   "cell_type": "code",
   "execution_count": 10,
   "metadata": {
    "collapsed": true
   },
   "outputs": [],
   "source": [
    "class HasOutputColsPrefix(Params):\n",
    "\n",
    "    output_prefix = Param(Params._dummy(), \"output_prefix\", \n",
    "                         \"prefix for every output column name\",\n",
    "                         typeConverter=TypeConverters.toString)\n",
    "\n",
    "    def __init__(self):\n",
    "        super(HasOutputColsPrefix, self).__init__()\n",
    "        self._setDefault(output_prefix='is')\n",
    "    \n",
    "    def setOutputColsPrefix(self, value):\n",
    "        return self._set(output_prefix=value)\n",
    "\n",
    "    def getOutputColsPrefix(self):\n",
    "        return self.getOrDefault(self.output_prefix)"
   ]
  },
  {
   "cell_type": "code",
   "execution_count": 13,
   "metadata": {
    "collapsed": true
   },
   "outputs": [],
   "source": [
    "class HasFieldValues(Params):\n",
    "\n",
    "    values = Param(Params._dummy(), \"values\", \n",
    "                         \"all possible values for a field\",\n",
    "                         typeConverter=TypeConverters.toList)\n",
    "    \n",
    "    fields = Param(Params._dummy(), \"fields\", \n",
    "                         \"new fields\",\n",
    "                         typeConverter=TypeConverters.toList)\n",
    "\n",
    "    def __init__(self):\n",
    "        super(HasFieldValues, self).__init__()\n",
    "        \n",
    "    def setValues(self, value):\n",
    "        return self._set(values=value)\n",
    "\n",
    "    def getValues(self):\n",
    "        return self.getOrDefault(self.values)\n",
    "\n",
    "    def setFields(self, value):\n",
    "        return self._set(fields=value)\n",
    "\n",
    "    def getFields(self):\n",
    "        return self.getOrDefault(self.fields)"
   ]
  },
  {
   "cell_type": "code",
   "execution_count": 14,
   "metadata": {
    "collapsed": true
   },
   "outputs": [],
   "source": [
    "class FillMode(Params):\n",
    "\n",
    "    fill_mode = Param(Params._dummy(), \"fill_mode\", \n",
    "                         \"should disassembler fill mode first\",\n",
    "                         typeConverter=TypeConverters.toBoolean)\n",
    "\n",
    "    def __init__(self):\n",
    "        super(FillMode, self).__init__()\n",
    "        self._setDefault(fill_mode=False)\n",
    "\n",
    "    def setFillMode(self, value):\n",
    "        return self._set(fill_mode=value)\n",
    "\n",
    "    def getFillMode(self):\n",
    "        return self.getOrDefault(self.fill_mode)"
   ]
  },
  {
   "cell_type": "code",
   "execution_count": 27,
   "metadata": {},
   "outputs": [],
   "source": [
    "class StringDisassembleModel(Model, HasInputCol, \n",
    "                             HasFieldValues, FillMode):\n",
    "    \n",
    "    def getMode(self):\n",
    "        values = self.getValues()\n",
    "        return None if len(values) == 0 else values[0]\n",
    "    \n",
    "    def _transform(self, dataset):\n",
    "        x = self.getInputCol()\n",
    "        fields = self.getFields()\n",
    "        values = self.getValues()\n",
    "        fill_mode = self.getFillMode()\n",
    "        mode = self.getMode()\n",
    "        \n",
    "        new_df = dataset\n",
    "        for f, v in zip(fields, values):\n",
    "            null_cond = None\n",
    "            if fill_mode:\n",
    "                null_cond = (F.lit(mode) == F.lit(v)).cast('double')\n",
    "            else:\n",
    "                null_cond = 0\n",
    "        \n",
    "            new_df = new_df.withColumn(f, F.when(F.isnull(x), null_cond) \\\n",
    "                    .otherwise((F.col(x) == F.lit(v)).cast('double')))\n",
    "        \n",
    "        return new_df"
   ]
  },
  {
   "cell_type": "code",
   "execution_count": 28,
   "metadata": {
    "collapsed": true
   },
   "outputs": [],
   "source": [
    "class StringDisassembler(Estimator, HasInputCol, \n",
    "                         HasOutputColsPrefix, FillMode):\n",
    "    \n",
    "    def get_values(self, dataset):\n",
    "        x = self.getInputCol()\n",
    "        # values ordered by count (mode)\n",
    "        values = dataset \\\n",
    "            .where('{} is not null'.format(x)) \\\n",
    "            .groupBy(x) \\\n",
    "            .agg(F.count('*').alias('count')) \\\n",
    "            .orderBy(F.desc('count')) \\\n",
    "            .rdd.map(lambda r: r[x]) \\\n",
    "            .collect()\n",
    "            \n",
    "        return values\n",
    "    \n",
    "    def get_fields(self, values):\n",
    "        x = self.getInputCol()\n",
    "        prefix = self.getOutputColsPrefix()\n",
    "        return ['{}_{}_{}'.format(prefix, x, v) for v in values]\n",
    "    \n",
    "    def _fit(self, dataset):\n",
    "        x = self.getInputCol()\n",
    "        values = self.get_values(dataset)\n",
    "        fields = self.get_fields(values)\n",
    "        model = StringDisassembleModel() \\\n",
    "            .setInputCol(x) \\\n",
    "            .setFields(fields) \\\n",
    "            .setValues(values) \\\n",
    "            .setFillMode(self.getFillMode())\n",
    "\n",
    "        return model"
   ]
  },
  {
   "cell_type": "markdown",
   "metadata": {},
   "source": [
    "# Try StringDisassembler"
   ]
  },
  {
   "cell_type": "code",
   "execution_count": 29,
   "metadata": {},
   "outputs": [
    {
     "name": "stdout",
     "output_type": "stream",
     "text": [
      "+---+----+----+-----+\n",
      "| id|  x1|  x2|score|\n",
      "+---+----+----+-----+\n",
      "|  1|   a|   A| null|\n",
      "|  2|   a|   B| 30.3|\n",
      "|  3|   b|   B| 27.8|\n",
      "|  4|   c|null| 31.2|\n",
      "|  5|null|   B| 32.5|\n",
      "+---+----+----+-----+\n",
      "\n"
     ]
    }
   ],
   "source": [
    "df.show()"
   ]
  },
  {
   "cell_type": "code",
   "execution_count": 30,
   "metadata": {},
   "outputs": [],
   "source": [
    "sd_model = StringDisassembler() \\\n",
    "    .setInputCol('x1') \\\n",
    "    .fit(df)"
   ]
  },
  {
   "cell_type": "code",
   "execution_count": 31,
   "metadata": {},
   "outputs": [
    {
     "data": {
      "text/plain": [
       "(u'a', [u'is_x1_a', u'is_x1_c', u'is_x1_b'], [u'a', u'c', u'b'])"
      ]
     },
     "execution_count": 31,
     "metadata": {},
     "output_type": "execute_result"
    }
   ],
   "source": [
    "sd_model.getMode(), sd_model.getFields(), sd_model.getValues()"
   ]
  },
  {
   "cell_type": "code",
   "execution_count": 32,
   "metadata": {},
   "outputs": [
    {
     "name": "stdout",
     "output_type": "stream",
     "text": [
      "+---+----+----+-----+-------+-------+-------+\n",
      "| id|  x1|  x2|score|is_x1_a|is_x1_c|is_x1_b|\n",
      "+---+----+----+-----+-------+-------+-------+\n",
      "|  1|   a|   A| null|    1.0|    0.0|    0.0|\n",
      "|  2|   a|   B| 30.3|    1.0|    0.0|    0.0|\n",
      "|  3|   b|   B| 27.8|    0.0|    0.0|    1.0|\n",
      "|  4|   c|null| 31.2|    0.0|    1.0|    0.0|\n",
      "|  5|null|   B| 32.5|    0.0|    0.0|    0.0|\n",
      "+---+----+----+-----+-------+-------+-------+\n",
      "\n"
     ]
    }
   ],
   "source": [
    "sd_model.transform(df).show()"
   ]
  },
  {
   "cell_type": "code",
   "execution_count": 33,
   "metadata": {
    "collapsed": true
   },
   "outputs": [],
   "source": [
    "sd_model2 = StringDisassembler() \\\n",
    "    .setInputCol('x2') \\\n",
    "    .setFillMode(True) \\\n",
    "    .fit(df)"
   ]
  },
  {
   "cell_type": "code",
   "execution_count": 34,
   "metadata": {},
   "outputs": [
    {
     "name": "stdout",
     "output_type": "stream",
     "text": [
      "+---+----+----+-----+-------+-------+\n",
      "| id|  x1|  x2|score|is_x2_B|is_x2_A|\n",
      "+---+----+----+-----+-------+-------+\n",
      "|  1|   a|   A| null|    0.0|    1.0|\n",
      "|  2|   a|   B| 30.3|    1.0|    0.0|\n",
      "|  3|   b|   B| 27.8|    1.0|    0.0|\n",
      "|  4|   c|null| 31.2|    1.0|    0.0|\n",
      "|  5|null|   B| 32.5|    1.0|    0.0|\n",
      "+---+----+----+-----+-------+-------+\n",
      "\n"
     ]
    }
   ],
   "source": [
    "sd_model2.transform(df).show()"
   ]
  },
  {
   "cell_type": "code",
   "execution_count": null,
   "metadata": {
    "collapsed": true
   },
   "outputs": [],
   "source": []
  }
 ],
 "metadata": {
  "kernelspec": {
   "display_name": "Python 2",
   "language": "python",
   "name": "python2"
  },
  "language_info": {
   "codemirror_mode": {
    "name": "ipython",
    "version": 2
   },
   "file_extension": ".py",
   "mimetype": "text/x-python",
   "name": "python",
   "nbconvert_exporter": "python",
   "pygments_lexer": "ipython2",
   "version": "2.7.13"
  }
 },
 "nbformat": 4,
 "nbformat_minor": 2
}
