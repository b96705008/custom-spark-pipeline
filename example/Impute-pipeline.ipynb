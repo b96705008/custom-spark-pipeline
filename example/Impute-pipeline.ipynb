{
 "cells": [
  {
   "cell_type": "markdown",
   "metadata": {},
   "source": [
    "# Setup"
   ]
  },
  {
   "cell_type": "code",
   "execution_count": 1,
   "metadata": {
    "collapsed": true
   },
   "outputs": [],
   "source": [
    "from __future__ import print_function\n",
    "from __future__ import division\n",
    "from __future__ import unicode_literals"
   ]
  },
  {
   "cell_type": "code",
   "execution_count": 2,
   "metadata": {
    "collapsed": true
   },
   "outputs": [],
   "source": [
    "from pyspark.ml.pipeline import Pipeline"
   ]
  },
  {
   "cell_type": "code",
   "execution_count": 3,
   "metadata": {},
   "outputs": [
    {
     "data": {
      "text/plain": [
       "(<pyspark.sql.session.SparkSession at 0x1049f7090>,\n",
       " <pyspark.context.SparkContext at 0x104905e50>,\n",
       " <bound method SparkSession.sql of <pyspark.sql.session.SparkSession object at 0x1049f7090>>)"
      ]
     },
     "execution_count": 3,
     "metadata": {},
     "output_type": "execute_result"
    }
   ],
   "source": [
    "spark, sc, sql"
   ]
  },
  {
   "cell_type": "code",
   "execution_count": 4,
   "metadata": {
    "collapsed": true
   },
   "outputs": [],
   "source": [
    "from tykuo_spark_model import TykuoImputer"
   ]
  },
  {
   "cell_type": "markdown",
   "metadata": {},
   "source": [
    "# Sample Dataset"
   ]
  },
  {
   "cell_type": "code",
   "execution_count": 5,
   "metadata": {
    "collapsed": true
   },
   "outputs": [],
   "source": [
    "df = sc.parallelize([\n",
    "        (1, 'a', 300, None), \n",
    "        (2, 'a', 400, 30.3), \n",
    "        (3, 'b', None, 27.8), \n",
    "        (4, 'c', 600, 31.2), \n",
    "        (5, None, 700, 32.5)]) \\\n",
    "    .toDF([\"id\", \"x1\", 'x2', 'x3'])"
   ]
  },
  {
   "cell_type": "code",
   "execution_count": 6,
   "metadata": {},
   "outputs": [
    {
     "name": "stdout",
     "output_type": "stream",
     "text": [
      "+---+----+----+----+\n",
      "| id|  x1|  x2|  x3|\n",
      "+---+----+----+----+\n",
      "|  1|   a| 300|null|\n",
      "|  2|   a| 400|30.3|\n",
      "|  3|   b|null|27.8|\n",
      "|  4|   c| 600|31.2|\n",
      "|  5|null| 700|32.5|\n",
      "+---+----+----+----+\n",
      "\n"
     ]
    }
   ],
   "source": [
    "df.show()"
   ]
  },
  {
   "cell_type": "markdown",
   "metadata": {},
   "source": [
    "# Impute Pipeline"
   ]
  },
  {
   "cell_type": "code",
   "execution_count": 7,
   "metadata": {
    "collapsed": true
   },
   "outputs": [],
   "source": [
    "pipeline = Pipeline(stages=[\n",
    "    TykuoImputer().setInputCol('x1').setOutputCol('x1_imp').setStrategy('mode'),\n",
    "    TykuoImputer().setInputCol('x2').setOutputCol('x2_imp').setStrategy('median'),\n",
    "    TykuoImputer().setInputCol('x3').setOutputCol('x3_imp').setStrategy('mean'),\n",
    "])"
   ]
  },
  {
   "cell_type": "code",
   "execution_count": 8,
   "metadata": {},
   "outputs": [],
   "source": [
    "model = pipeline.fit(df)"
   ]
  },
  {
   "cell_type": "code",
   "execution_count": 9,
   "metadata": {},
   "outputs": [
    {
     "name": "stdout",
     "output_type": "stream",
     "text": [
      "+---+----+----+----+------+------+------+\n",
      "| id|  x1|  x2|  x3|x1_imp|x2_imp|x3_imp|\n",
      "+---+----+----+----+------+------+------+\n",
      "|  1|   a| 300|null|     a| 300.0| 30.45|\n",
      "|  2|   a| 400|30.3|     a| 400.0|  30.3|\n",
      "|  3|   b|null|27.8|     b| 400.0|  27.8|\n",
      "|  4|   c| 600|31.2|     c| 600.0|  31.2|\n",
      "|  5|null| 700|32.5|     a| 700.0|  32.5|\n",
      "+---+----+----+----+------+------+------+\n",
      "\n"
     ]
    }
   ],
   "source": [
    "model.transform(df).show()"
   ]
  },
  {
   "cell_type": "code",
   "execution_count": null,
   "metadata": {
    "collapsed": true
   },
   "outputs": [],
   "source": []
  }
 ],
 "metadata": {
  "kernelspec": {
   "display_name": "Python 2",
   "language": "python",
   "name": "python2"
  },
  "language_info": {
   "codemirror_mode": {
    "name": "ipython",
    "version": 2
   },
   "file_extension": ".py",
   "mimetype": "text/x-python",
   "name": "python",
   "nbconvert_exporter": "python",
   "pygments_lexer": "ipython2",
   "version": "2.7.13"
  }
 },
 "nbformat": 4,
 "nbformat_minor": 2
}
