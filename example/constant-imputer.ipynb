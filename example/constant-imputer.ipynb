{
 "cells": [
  {
   "cell_type": "markdown",
   "metadata": {},
   "source": [
    "# Setup"
   ]
  },
  {
   "cell_type": "code",
   "execution_count": 6,
   "metadata": {
    "collapsed": true
   },
   "outputs": [],
   "source": [
    "from __future__ import print_function\n",
    "from __future__ import division\n",
    "from __future__ import unicode_literals"
   ]
  },
  {
   "cell_type": "code",
   "execution_count": 7,
   "metadata": {
    "collapsed": true
   },
   "outputs": [],
   "source": [
    "from pyspark import keyword_only\n",
    "from pyspark.ml.pipeline import Pipeline, PipelineModel, Transformer\n",
    "from pyspark.ml.param.shared import *\n",
    "from pyspark.ml.util import DefaultParamsReadable, DefaultParamsWritable"
   ]
  },
  {
   "cell_type": "code",
   "execution_count": 8,
   "metadata": {
    "collapsed": true
   },
   "outputs": [],
   "source": [
    "from pyspark.ml.feature import Imputer"
   ]
  },
  {
   "cell_type": "code",
   "execution_count": 9,
   "metadata": {},
   "outputs": [
    {
     "data": {
      "text/html": [
       "\n",
       "            <div>\n",
       "                <p><b>SparkSession - hive</b></p>\n",
       "                \n",
       "        <div>\n",
       "            <p><b>SparkContext</b></p>\n",
       "\n",
       "            <p><a href=\"http://172.22.138.96:4041\">Spark UI</a></p>\n",
       "\n",
       "            <dl>\n",
       "              <dt>Version</dt>\n",
       "                <dd><code>v2.3.0</code></dd>\n",
       "              <dt>Master</dt>\n",
       "                <dd><code>local[*]</code></dd>\n",
       "              <dt>AppName</dt>\n",
       "                <dd><code>Jupyter_Spark</code></dd>\n",
       "            </dl>\n",
       "        </div>\n",
       "        \n",
       "            </div>\n",
       "        "
      ],
      "text/plain": [
       "<pyspark.sql.session.SparkSession at 0x110b5eb50>"
      ]
     },
     "execution_count": 9,
     "metadata": {},
     "output_type": "execute_result"
    }
   ],
   "source": [
    "spark"
   ]
  },
  {
   "cell_type": "code",
   "execution_count": 10,
   "metadata": {
    "collapsed": true
   },
   "outputs": [],
   "source": [
    "df = sc \\\n",
    "    .parallelize([\n",
    "        (1, 'a', 'A', 56., 175., 10.), \n",
    "        (2, 'a', 'B', 66., None, 92.), \n",
    "        (3, 'b', 'B', None, 182., 876.), \n",
    "        (4, 'c', None, 71., 171., None), \n",
    "        (5, None, 'B', 48., 173., None)]) \\\n",
    "    .toDF([\"id\", \"x1\", 'x2', 'x3', 'x4', 'x5'])"
   ]
  },
  {
   "cell_type": "code",
   "execution_count": 11,
   "metadata": {},
   "outputs": [
    {
     "name": "stdout",
     "output_type": "stream",
     "text": [
      "+---+----+----+----+-----+-----+\n",
      "| id|  x1|  x2|  x3|   x4|   x5|\n",
      "+---+----+----+----+-----+-----+\n",
      "|  1|   a|   A|56.0|175.0| 10.0|\n",
      "|  2|   a|   B|66.0| null| 92.0|\n",
      "|  3|   b|   B|null|182.0|876.0|\n",
      "|  4|   c|null|71.0|171.0| null|\n",
      "|  5|null|   B|48.0|173.0| null|\n",
      "+---+----+----+----+-----+-----+\n",
      "\n"
     ]
    }
   ],
   "source": [
    "df.show()"
   ]
  },
  {
   "cell_type": "markdown",
   "metadata": {},
   "source": [
    "# Impute with Constant Value"
   ]
  },
  {
   "cell_type": "code",
   "execution_count": 200,
   "metadata": {
    "collapsed": true
   },
   "outputs": [],
   "source": [
    "impute_mode = ImputeCategoricalWithMode() \\\n",
    "    .setInputCols(['x1', 'x2']) \\\n",
    "    .setOutputCols(['x1_im', 'x2_im'])"
   ]
  },
  {
   "cell_type": "code",
   "execution_count": 201,
   "metadata": {
    "collapsed": true
   },
   "outputs": [],
   "source": [
    "impute_model = impute_mode.fit(df)"
   ]
  },
  {
   "cell_type": "code",
   "execution_count": 202,
   "metadata": {},
   "outputs": [
    {
     "name": "stdout",
     "output_type": "stream",
     "text": [
      "+---+----+----+-----+-----+\n",
      "| id|  x1|  x2|x1_im|x2_im|\n",
      "+---+----+----+-----+-----+\n",
      "|  1|   a|   A|    a|    A|\n",
      "|  2|   a|   B|    a|    B|\n",
      "|  3|   b|   B|    b|    B|\n",
      "|  4|   c|null|    c|    B|\n",
      "|  4|null|   B|    a|    B|\n",
      "+---+----+----+-----+-----+\n",
      "\n"
     ]
    }
   ],
   "source": [
    "impute_model.transform(df).show()"
   ]
  },
  {
   "cell_type": "markdown",
   "metadata": {},
   "source": [
    "# Impute Pipeline"
   ]
  },
  {
   "cell_type": "code",
   "execution_count": 16,
   "metadata": {
    "collapsed": true
   },
   "outputs": [],
   "source": [
    "class HasConstValue(Params):\n",
    "\n",
    "    const_value = Param(Params._dummy(),\n",
    "            \"const_value\", \"string, double or dict\")\n",
    "\n",
    "    def __init__(self):\n",
    "        super(HasConstValue, self).__init__()\n",
    "\n",
    "    def setConstValue(self, value):\n",
    "        return self._set(const_value=value)\n",
    "\n",
    "    def getConstValue(self):\n",
    "        return self.getOrDefault(self.const_value)"
   ]
  },
  {
   "cell_type": "code",
   "execution_count": 18,
   "metadata": {
    "collapsed": true
   },
   "outputs": [],
   "source": [
    "class ConstantImputer(Transformer, HasConstValue, DefaultParamsReadable, DefaultParamsWritable):\n",
    "    \n",
    "    def _transform(self, dataset):\n",
    "        const_val = self.getConstValue()\n",
    "        return dataset.na.fill(const_val)"
   ]
  },
  {
   "cell_type": "code",
   "execution_count": 19,
   "metadata": {},
   "outputs": [
    {
     "name": "stdout",
     "output_type": "stream",
     "text": [
      "+---+----+----+----+-----+-----+\n",
      "| id|  x1|  x2|  x3|   x4|   x5|\n",
      "+---+----+----+----+-----+-----+\n",
      "|  1|   a|   A|56.0|175.0| 10.0|\n",
      "|  2|   a|   B|66.0|  0.0| 92.0|\n",
      "|  3|   b|   B| 0.0|182.0|876.0|\n",
      "|  4|   c|null|71.0|171.0|  0.0|\n",
      "|  5|null|   B|48.0|173.0|  0.0|\n",
      "+---+----+----+----+-----+-----+\n",
      "\n"
     ]
    }
   ],
   "source": [
    "ConstantImputer().setConstValue(0).transform(df).show()"
   ]
  },
  {
   "cell_type": "code",
   "execution_count": 20,
   "metadata": {},
   "outputs": [
    {
     "name": "stdout",
     "output_type": "stream",
     "text": [
      "+---+---+---+----+-----+-----+\n",
      "| id| x1| x2|  x3|   x4|   x5|\n",
      "+---+---+---+----+-----+-----+\n",
      "|  1|  a|  A|56.0|175.0| 10.0|\n",
      "|  2|  a|  B|66.0| null| 92.0|\n",
      "|  3|  b|  B|null|182.0|876.0|\n",
      "|  4|  c|  x|71.0|171.0| null|\n",
      "|  5|  x|  B|48.0|173.0| null|\n",
      "+---+---+---+----+-----+-----+\n",
      "\n"
     ]
    }
   ],
   "source": [
    "ConstantImputer().setConstValue('x').transform(df).show()"
   ]
  },
  {
   "cell_type": "code",
   "execution_count": 21,
   "metadata": {},
   "outputs": [
    {
     "name": "stdout",
     "output_type": "stream",
     "text": [
      "+---+---+---+----+-----+-----+\n",
      "| id| x1| x2|  x3|   x4|   x5|\n",
      "+---+---+---+----+-----+-----+\n",
      "|  1|  a|  A|56.0|175.0| 10.0|\n",
      "|  2|  a|  B|66.0|100.0| 92.0|\n",
      "|  3|  b|  B| 0.0|182.0|876.0|\n",
      "|  4|  c|  C|71.0|171.0| null|\n",
      "|  5|  x|  B|48.0|173.0| null|\n",
      "+---+---+---+----+-----+-----+\n",
      "\n"
     ]
    }
   ],
   "source": [
    "ConstantImputer().setConstValue({'x1': 'x', 'x2': 'C', 'x3': 0, 'x4': 100}).transform(df).show()"
   ]
  },
  {
   "cell_type": "code",
   "execution_count": null,
   "metadata": {
    "collapsed": true
   },
   "outputs": [],
   "source": []
  }
 ],
 "metadata": {
  "kernelspec": {
   "display_name": "Python 2",
   "language": "python",
   "name": "python2"
  },
  "language_info": {
   "codemirror_mode": {
    "name": "ipython",
    "version": 2
   },
   "file_extension": ".py",
   "mimetype": "text/x-python",
   "name": "python",
   "nbconvert_exporter": "python",
   "pygments_lexer": "ipython2",
   "version": "2.7.13"
  }
 },
 "nbformat": 4,
 "nbformat_minor": 2
}
