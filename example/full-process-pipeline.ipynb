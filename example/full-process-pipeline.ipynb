{
 "cells": [
  {
   "cell_type": "markdown",
   "metadata": {},
   "source": [
    "# Setup"
   ]
  },
  {
   "cell_type": "code",
   "execution_count": 1,
   "metadata": {
    "collapsed": true
   },
   "outputs": [],
   "source": [
    "from __future__ import print_function\n",
    "from __future__ import division\n",
    "from __future__ import unicode_literals"
   ]
  },
  {
   "cell_type": "code",
   "execution_count": 2,
   "metadata": {
    "collapsed": true
   },
   "outputs": [],
   "source": [
    "import pyspark.sql.functions as F\n",
    "from pyspark.sql import Row"
   ]
  },
  {
   "cell_type": "code",
   "execution_count": 3,
   "metadata": {
    "collapsed": true
   },
   "outputs": [],
   "source": [
    "from pyspark.ml import Pipeline, PipelineModel\n",
    "from pyspark.ml.feature import Imputer, VectorAssembler, StandardScaler"
   ]
  },
  {
   "cell_type": "code",
   "execution_count": 4,
   "metadata": {
    "collapsed": true
   },
   "outputs": [],
   "source": [
    "from tykuo_spark_model import StringDisassembler, ImputeCategoricalWithMode, VectorDisassembler"
   ]
  },
  {
   "cell_type": "markdown",
   "metadata": {},
   "source": [
    "# Sample Data"
   ]
  },
  {
   "cell_type": "code",
   "execution_count": 5,
   "metadata": {
    "collapsed": true
   },
   "outputs": [],
   "source": [
    "df = sc \\\n",
    "    .parallelize([\n",
    "        (1, 'a', 'A', 56., 175.), \n",
    "        (2, 'a', 'B', 66., None), \n",
    "        (3, 'b', 'B', None, 182.), \n",
    "        (4, 'c', None, 71., 171.), \n",
    "        (5, None, 'B', 48., 173.)]) \\\n",
    "    .toDF([\"id\", \"x1\", 'x2', 'x3', 'x4'])"
   ]
  },
  {
   "cell_type": "code",
   "execution_count": 6,
   "metadata": {},
   "outputs": [
    {
     "name": "stdout",
     "output_type": "stream",
     "text": [
      "+---+----+----+----+-----+\n",
      "| id|  x1|  x2|  x3|   x4|\n",
      "+---+----+----+----+-----+\n",
      "|  1|   a|   A|56.0|175.0|\n",
      "|  2|   a|   B|66.0| null|\n",
      "|  3|   b|   B|null|182.0|\n",
      "|  4|   c|null|71.0|171.0|\n",
      "|  5|null|   B|48.0|173.0|\n",
      "+---+----+----+----+-----+\n",
      "\n"
     ]
    }
   ],
   "source": [
    "df.show()"
   ]
  },
  {
   "cell_type": "markdown",
   "metadata": {},
   "source": [
    "# Data Processing Pipeline"
   ]
  },
  {
   "cell_type": "code",
   "execution_count": 7,
   "metadata": {
    "collapsed": true
   },
   "outputs": [],
   "source": [
    "stage = [\n",
    "    # impute\n",
    "    ImputeCategoricalWithMode().setInputCols(['x1', 'x2']).setOutputCols(['x1_im', 'x2_im']),\n",
    "    Imputer(inputCols=['x3', 'x4'], outputCols=['x3_im', 'x4_im']).setStrategy('median'),\n",
    "    # Numeric \n",
    "    VectorAssembler(inputCols=['x3_im', 'x4_im'], outputCol='numericFeatures'),\n",
    "    StandardScaler(inputCol='numericFeatures', outputCol='scaledNumericFeatures', withMean=True),\n",
    "    VectorDisassembler().setInputCol('scaledNumericFeatures').setOutputCols(['x3_scaled', 'x4_scaled']),\n",
    "    # Categorical\n",
    "    StringDisassembler().setInputCol('x1_im'),\n",
    "    StringDisassembler().setInputCol('x2_im'),\n",
    "]"
   ]
  },
  {
   "cell_type": "code",
   "execution_count": 8,
   "metadata": {
    "collapsed": true
   },
   "outputs": [],
   "source": [
    "pipelineModel = Pipeline(stages=stage).fit(df)"
   ]
  },
  {
   "cell_type": "code",
   "execution_count": 9,
   "metadata": {
    "collapsed": true
   },
   "outputs": [],
   "source": [
    "df_with_features = pipelineModel.transform(df)"
   ]
  },
  {
   "cell_type": "code",
   "execution_count": 10,
   "metadata": {},
   "outputs": [
    {
     "name": "stdout",
     "output_type": "stream",
     "text": [
      "root\n",
      " |-- id: long (nullable = true)\n",
      " |-- x1: string (nullable = true)\n",
      " |-- x2: string (nullable = true)\n",
      " |-- x3: double (nullable = true)\n",
      " |-- x4: double (nullable = true)\n",
      " |-- x1_im: string (nullable = true)\n",
      " |-- x2_im: string (nullable = true)\n",
      " |-- x3_im: double (nullable = true)\n",
      " |-- x4_im: double (nullable = true)\n",
      " |-- numericFeatures: vector (nullable = true)\n",
      " |-- scaledNumericFeatures: vector (nullable = true)\n",
      " |-- x3_scaled: double (nullable = true)\n",
      " |-- x4_scaled: double (nullable = true)\n",
      " |-- is_x1_im_a: double (nullable = true)\n",
      " |-- is_x1_im_c: double (nullable = true)\n",
      " |-- is_x1_im_b: double (nullable = true)\n",
      " |-- is_x2_im_A: double (nullable = true)\n",
      " |-- is_x2_im_B: double (nullable = true)\n",
      "\n"
     ]
    }
   ],
   "source": [
    "df_with_features.printSchema()"
   ]
  },
  {
   "cell_type": "code",
   "execution_count": 11,
   "metadata": {},
   "outputs": [
    {
     "data": {
      "text/html": [
       "<div>\n",
       "<style>\n",
       "    .dataframe thead tr:only-child th {\n",
       "        text-align: right;\n",
       "    }\n",
       "\n",
       "    .dataframe thead th {\n",
       "        text-align: left;\n",
       "    }\n",
       "\n",
       "    .dataframe tbody tr th {\n",
       "        vertical-align: top;\n",
       "    }\n",
       "</style>\n",
       "<table border=\"1\" class=\"dataframe\">\n",
       "  <thead>\n",
       "    <tr style=\"text-align: right;\">\n",
       "      <th></th>\n",
       "      <th>x1</th>\n",
       "      <th>x2</th>\n",
       "      <th>x3</th>\n",
       "      <th>x4</th>\n",
       "      <th>x1_im</th>\n",
       "      <th>x2_im</th>\n",
       "      <th>x3_im</th>\n",
       "      <th>x4_im</th>\n",
       "      <th>numericFeatures</th>\n",
       "      <th>scaledNumericFeatures</th>\n",
       "      <th>x3_scaled</th>\n",
       "      <th>x4_scaled</th>\n",
       "      <th>is_x1_im_a</th>\n",
       "      <th>is_x1_im_c</th>\n",
       "      <th>is_x1_im_b</th>\n",
       "      <th>is_x2_im_A</th>\n",
       "      <th>is_x2_im_B</th>\n",
       "    </tr>\n",
       "    <tr>\n",
       "      <th>id</th>\n",
       "      <th></th>\n",
       "      <th></th>\n",
       "      <th></th>\n",
       "      <th></th>\n",
       "      <th></th>\n",
       "      <th></th>\n",
       "      <th></th>\n",
       "      <th></th>\n",
       "      <th></th>\n",
       "      <th></th>\n",
       "      <th></th>\n",
       "      <th></th>\n",
       "      <th></th>\n",
       "      <th></th>\n",
       "      <th></th>\n",
       "      <th></th>\n",
       "      <th></th>\n",
       "    </tr>\n",
       "  </thead>\n",
       "  <tbody>\n",
       "    <tr>\n",
       "      <th>1</th>\n",
       "      <td>a</td>\n",
       "      <td>A</td>\n",
       "      <td>56.0</td>\n",
       "      <td>175.0</td>\n",
       "      <td>a</td>\n",
       "      <td>A</td>\n",
       "      <td>56.0</td>\n",
       "      <td>175.0</td>\n",
       "      <td>[56.0, 175.0]</td>\n",
       "      <td>[-0.373648934924, 0.0468807230939]</td>\n",
       "      <td>-0.373649</td>\n",
       "      <td>0.046881</td>\n",
       "      <td>1.0</td>\n",
       "      <td>0.0</td>\n",
       "      <td>0.0</td>\n",
       "      <td>1.0</td>\n",
       "      <td>0.0</td>\n",
       "    </tr>\n",
       "    <tr>\n",
       "      <th>2</th>\n",
       "      <td>a</td>\n",
       "      <td>B</td>\n",
       "      <td>66.0</td>\n",
       "      <td>NaN</td>\n",
       "      <td>a</td>\n",
       "      <td>B</td>\n",
       "      <td>66.0</td>\n",
       "      <td>173.0</td>\n",
       "      <td>[66.0, 173.0]</td>\n",
       "      <td>[0.725318520735, -0.421926507845]</td>\n",
       "      <td>0.725319</td>\n",
       "      <td>-0.421927</td>\n",
       "      <td>1.0</td>\n",
       "      <td>0.0</td>\n",
       "      <td>0.0</td>\n",
       "      <td>0.0</td>\n",
       "      <td>1.0</td>\n",
       "    </tr>\n",
       "    <tr>\n",
       "      <th>3</th>\n",
       "      <td>b</td>\n",
       "      <td>B</td>\n",
       "      <td>NaN</td>\n",
       "      <td>182.0</td>\n",
       "      <td>b</td>\n",
       "      <td>B</td>\n",
       "      <td>56.0</td>\n",
       "      <td>182.0</td>\n",
       "      <td>[56.0, 182.0]</td>\n",
       "      <td>[-0.373648934924, 1.68770603138]</td>\n",
       "      <td>-0.373649</td>\n",
       "      <td>1.687706</td>\n",
       "      <td>0.0</td>\n",
       "      <td>0.0</td>\n",
       "      <td>1.0</td>\n",
       "      <td>0.0</td>\n",
       "      <td>1.0</td>\n",
       "    </tr>\n",
       "    <tr>\n",
       "      <th>4</th>\n",
       "      <td>c</td>\n",
       "      <td>None</td>\n",
       "      <td>71.0</td>\n",
       "      <td>171.0</td>\n",
       "      <td>c</td>\n",
       "      <td>B</td>\n",
       "      <td>71.0</td>\n",
       "      <td>171.0</td>\n",
       "      <td>[71.0, 171.0]</td>\n",
       "      <td>[1.27480224857, -0.890733738783]</td>\n",
       "      <td>1.274802</td>\n",
       "      <td>-0.890734</td>\n",
       "      <td>0.0</td>\n",
       "      <td>1.0</td>\n",
       "      <td>0.0</td>\n",
       "      <td>0.0</td>\n",
       "      <td>1.0</td>\n",
       "    </tr>\n",
       "    <tr>\n",
       "      <th>5</th>\n",
       "      <td>None</td>\n",
       "      <td>B</td>\n",
       "      <td>48.0</td>\n",
       "      <td>173.0</td>\n",
       "      <td>a</td>\n",
       "      <td>B</td>\n",
       "      <td>48.0</td>\n",
       "      <td>173.0</td>\n",
       "      <td>[48.0, 173.0]</td>\n",
       "      <td>[-1.25282289945, -0.421926507845]</td>\n",
       "      <td>-1.252823</td>\n",
       "      <td>-0.421927</td>\n",
       "      <td>1.0</td>\n",
       "      <td>0.0</td>\n",
       "      <td>0.0</td>\n",
       "      <td>0.0</td>\n",
       "      <td>1.0</td>\n",
       "    </tr>\n",
       "  </tbody>\n",
       "</table>\n",
       "</div>"
      ],
      "text/plain": [
       "      x1    x2    x3     x4 x1_im x2_im  x3_im  x4_im numericFeatures  \\\n",
       "id                                                                      \n",
       "1      a     A  56.0  175.0     a     A   56.0  175.0   [56.0, 175.0]   \n",
       "2      a     B  66.0    NaN     a     B   66.0  173.0   [66.0, 173.0]   \n",
       "3      b     B   NaN  182.0     b     B   56.0  182.0   [56.0, 182.0]   \n",
       "4      c  None  71.0  171.0     c     B   71.0  171.0   [71.0, 171.0]   \n",
       "5   None     B  48.0  173.0     a     B   48.0  173.0   [48.0, 173.0]   \n",
       "\n",
       "                 scaledNumericFeatures  x3_scaled  x4_scaled  is_x1_im_a  \\\n",
       "id                                                                         \n",
       "1   [-0.373648934924, 0.0468807230939]  -0.373649   0.046881         1.0   \n",
       "2    [0.725318520735, -0.421926507845]   0.725319  -0.421927         1.0   \n",
       "3     [-0.373648934924, 1.68770603138]  -0.373649   1.687706         0.0   \n",
       "4     [1.27480224857, -0.890733738783]   1.274802  -0.890734         0.0   \n",
       "5    [-1.25282289945, -0.421926507845]  -1.252823  -0.421927         1.0   \n",
       "\n",
       "    is_x1_im_c  is_x1_im_b  is_x2_im_A  is_x2_im_B  \n",
       "id                                                  \n",
       "1          0.0         0.0         1.0         0.0  \n",
       "2          0.0         0.0         0.0         1.0  \n",
       "3          0.0         1.0         0.0         1.0  \n",
       "4          1.0         0.0         0.0         1.0  \n",
       "5          0.0         0.0         0.0         1.0  "
      ]
     },
     "execution_count": 11,
     "metadata": {},
     "output_type": "execute_result"
    }
   ],
   "source": [
    "df_with_features_pd = df_with_features.toPandas().set_index('id')\n",
    "df_with_features_pd"
   ]
  },
  {
   "cell_type": "code",
   "execution_count": 12,
   "metadata": {
    "collapsed": true
   },
   "outputs": [],
   "source": [
    "final_features = ['x3_scaled', 'x4_scaled', 'is_x1_im_a', 'is_x1_im_c', 'is_x1_im_b', 'is_x2_im_A', 'is_x2_im_B']"
   ]
  },
  {
   "cell_type": "code",
   "execution_count": 13,
   "metadata": {},
   "outputs": [
    {
     "data": {
      "text/html": [
       "<div>\n",
       "<style>\n",
       "    .dataframe thead tr:only-child th {\n",
       "        text-align: right;\n",
       "    }\n",
       "\n",
       "    .dataframe thead th {\n",
       "        text-align: left;\n",
       "    }\n",
       "\n",
       "    .dataframe tbody tr th {\n",
       "        vertical-align: top;\n",
       "    }\n",
       "</style>\n",
       "<table border=\"1\" class=\"dataframe\">\n",
       "  <thead>\n",
       "    <tr style=\"text-align: right;\">\n",
       "      <th></th>\n",
       "      <th>x3_scaled</th>\n",
       "      <th>x4_scaled</th>\n",
       "      <th>is_x1_im_a</th>\n",
       "      <th>is_x1_im_c</th>\n",
       "      <th>is_x1_im_b</th>\n",
       "      <th>is_x2_im_A</th>\n",
       "      <th>is_x2_im_B</th>\n",
       "    </tr>\n",
       "    <tr>\n",
       "      <th>id</th>\n",
       "      <th></th>\n",
       "      <th></th>\n",
       "      <th></th>\n",
       "      <th></th>\n",
       "      <th></th>\n",
       "      <th></th>\n",
       "      <th></th>\n",
       "    </tr>\n",
       "  </thead>\n",
       "  <tbody>\n",
       "    <tr>\n",
       "      <th>1</th>\n",
       "      <td>-0.373649</td>\n",
       "      <td>0.046881</td>\n",
       "      <td>1.0</td>\n",
       "      <td>0.0</td>\n",
       "      <td>0.0</td>\n",
       "      <td>1.0</td>\n",
       "      <td>0.0</td>\n",
       "    </tr>\n",
       "    <tr>\n",
       "      <th>2</th>\n",
       "      <td>0.725319</td>\n",
       "      <td>-0.421927</td>\n",
       "      <td>1.0</td>\n",
       "      <td>0.0</td>\n",
       "      <td>0.0</td>\n",
       "      <td>0.0</td>\n",
       "      <td>1.0</td>\n",
       "    </tr>\n",
       "    <tr>\n",
       "      <th>3</th>\n",
       "      <td>-0.373649</td>\n",
       "      <td>1.687706</td>\n",
       "      <td>0.0</td>\n",
       "      <td>0.0</td>\n",
       "      <td>1.0</td>\n",
       "      <td>0.0</td>\n",
       "      <td>1.0</td>\n",
       "    </tr>\n",
       "    <tr>\n",
       "      <th>4</th>\n",
       "      <td>1.274802</td>\n",
       "      <td>-0.890734</td>\n",
       "      <td>0.0</td>\n",
       "      <td>1.0</td>\n",
       "      <td>0.0</td>\n",
       "      <td>0.0</td>\n",
       "      <td>1.0</td>\n",
       "    </tr>\n",
       "    <tr>\n",
       "      <th>5</th>\n",
       "      <td>-1.252823</td>\n",
       "      <td>-0.421927</td>\n",
       "      <td>1.0</td>\n",
       "      <td>0.0</td>\n",
       "      <td>0.0</td>\n",
       "      <td>0.0</td>\n",
       "      <td>1.0</td>\n",
       "    </tr>\n",
       "  </tbody>\n",
       "</table>\n",
       "</div>"
      ],
      "text/plain": [
       "    x3_scaled  x4_scaled  is_x1_im_a  is_x1_im_c  is_x1_im_b  is_x2_im_A  \\\n",
       "id                                                                         \n",
       "1   -0.373649   0.046881         1.0         0.0         0.0         1.0   \n",
       "2    0.725319  -0.421927         1.0         0.0         0.0         0.0   \n",
       "3   -0.373649   1.687706         0.0         0.0         1.0         0.0   \n",
       "4    1.274802  -0.890734         0.0         1.0         0.0         0.0   \n",
       "5   -1.252823  -0.421927         1.0         0.0         0.0         0.0   \n",
       "\n",
       "    is_x2_im_B  \n",
       "id              \n",
       "1          0.0  \n",
       "2          1.0  \n",
       "3          1.0  \n",
       "4          1.0  \n",
       "5          1.0  "
      ]
     },
     "execution_count": 13,
     "metadata": {},
     "output_type": "execute_result"
    }
   ],
   "source": [
    "df_with_features_pd[final_features]"
   ]
  },
  {
   "cell_type": "markdown",
   "metadata": {},
   "source": [
    "# Pipeline IO"
   ]
  },
  {
   "cell_type": "code",
   "execution_count": 30,
   "metadata": {},
   "outputs": [
    {
     "ename": "AttributeError",
     "evalue": "'PipelineModel' object has no attribute 'select'",
     "output_type": "error",
     "traceback": [
      "\u001b[0;31m---------------------------------------------------------------------------\u001b[0m",
      "\u001b[0;31mAttributeError\u001b[0m                            Traceback (most recent call last)",
      "\u001b[0;32m<ipython-input-30-9db1d82f6939>\u001b[0m in \u001b[0;36m<module>\u001b[0;34m()\u001b[0m\n\u001b[0;32m----> 1\u001b[0;31m \u001b[0mpipelineModel\u001b[0m     \u001b[0;34m.\u001b[0m\u001b[0mselect\u001b[0m\u001b[0;34m(\u001b[0m\u001b[0;34m*\u001b[0m\u001b[0;34m(\u001b[0m\u001b[0;34m[\u001b[0m\u001b[0;34m'id'\u001b[0m\u001b[0;34m]\u001b[0m \u001b[0;34m+\u001b[0m \u001b[0mfinal_features\u001b[0m\u001b[0;34m)\u001b[0m\u001b[0;34m)\u001b[0m     \u001b[0;34m.\u001b[0m\u001b[0mwrite\u001b[0m\u001b[0;34m(\u001b[0m\u001b[0;34m)\u001b[0m\u001b[0;34m.\u001b[0m\u001b[0moverwrite\u001b[0m\u001b[0;34m(\u001b[0m\u001b[0;34m)\u001b[0m\u001b[0;34m.\u001b[0m\u001b[0msave\u001b[0m\u001b[0;34m(\u001b[0m\u001b[0;34m'tmp/final'\u001b[0m\u001b[0;34m)\u001b[0m\u001b[0;34m\u001b[0m\u001b[0m\n\u001b[0m",
      "\u001b[0;31mAttributeError\u001b[0m: 'PipelineModel' object has no attribute 'select'"
     ]
    }
   ],
   "source": [
    "pipelineModel \\\n",
    "    .select(*(['id'] + final_features)) \\\n",
    "    .write().overwrite().save('tmp/final')"
   ]
  },
  {
   "cell_type": "code",
   "execution_count": 29,
   "metadata": {},
   "outputs": [
    {
     "data": {
      "text/html": [
       "<div>\n",
       "<style>\n",
       "    .dataframe thead tr:only-child th {\n",
       "        text-align: right;\n",
       "    }\n",
       "\n",
       "    .dataframe thead th {\n",
       "        text-align: left;\n",
       "    }\n",
       "\n",
       "    .dataframe tbody tr th {\n",
       "        vertical-align: top;\n",
       "    }\n",
       "</style>\n",
       "<table border=\"1\" class=\"dataframe\">\n",
       "  <thead>\n",
       "    <tr style=\"text-align: right;\">\n",
       "      <th></th>\n",
       "      <th>x3_scaled</th>\n",
       "      <th>x4_scaled</th>\n",
       "      <th>is_x1_im_a</th>\n",
       "      <th>is_x1_im_c</th>\n",
       "      <th>is_x1_im_b</th>\n",
       "      <th>is_x2_im_A</th>\n",
       "      <th>is_x2_im_B</th>\n",
       "    </tr>\n",
       "    <tr>\n",
       "      <th>id</th>\n",
       "      <th></th>\n",
       "      <th></th>\n",
       "      <th></th>\n",
       "      <th></th>\n",
       "      <th></th>\n",
       "      <th></th>\n",
       "      <th></th>\n",
       "    </tr>\n",
       "  </thead>\n",
       "  <tbody>\n",
       "    <tr>\n",
       "      <th>1</th>\n",
       "      <td>-0.373649</td>\n",
       "      <td>0.046881</td>\n",
       "      <td>1.0</td>\n",
       "      <td>0.0</td>\n",
       "      <td>0.0</td>\n",
       "      <td>1.0</td>\n",
       "      <td>0.0</td>\n",
       "    </tr>\n",
       "    <tr>\n",
       "      <th>2</th>\n",
       "      <td>0.725319</td>\n",
       "      <td>-0.421927</td>\n",
       "      <td>1.0</td>\n",
       "      <td>0.0</td>\n",
       "      <td>0.0</td>\n",
       "      <td>0.0</td>\n",
       "      <td>1.0</td>\n",
       "    </tr>\n",
       "    <tr>\n",
       "      <th>3</th>\n",
       "      <td>-0.373649</td>\n",
       "      <td>1.687706</td>\n",
       "      <td>0.0</td>\n",
       "      <td>0.0</td>\n",
       "      <td>1.0</td>\n",
       "      <td>0.0</td>\n",
       "      <td>1.0</td>\n",
       "    </tr>\n",
       "    <tr>\n",
       "      <th>4</th>\n",
       "      <td>1.274802</td>\n",
       "      <td>-0.890734</td>\n",
       "      <td>0.0</td>\n",
       "      <td>1.0</td>\n",
       "      <td>0.0</td>\n",
       "      <td>0.0</td>\n",
       "      <td>1.0</td>\n",
       "    </tr>\n",
       "    <tr>\n",
       "      <th>5</th>\n",
       "      <td>-1.252823</td>\n",
       "      <td>-0.421927</td>\n",
       "      <td>1.0</td>\n",
       "      <td>0.0</td>\n",
       "      <td>0.0</td>\n",
       "      <td>0.0</td>\n",
       "      <td>1.0</td>\n",
       "    </tr>\n",
       "  </tbody>\n",
       "</table>\n",
       "</div>"
      ],
      "text/plain": [
       "    x3_scaled  x4_scaled  is_x1_im_a  is_x1_im_c  is_x1_im_b  is_x2_im_A  \\\n",
       "id                                                                         \n",
       "1   -0.373649   0.046881         1.0         0.0         0.0         1.0   \n",
       "2    0.725319  -0.421927         1.0         0.0         0.0         0.0   \n",
       "3   -0.373649   1.687706         0.0         0.0         1.0         0.0   \n",
       "4    1.274802  -0.890734         0.0         1.0         0.0         0.0   \n",
       "5   -1.252823  -0.421927         1.0         0.0         0.0         0.0   \n",
       "\n",
       "    is_x2_im_B  \n",
       "id              \n",
       "1          0.0  \n",
       "2          1.0  \n",
       "3          1.0  \n",
       "4          1.0  \n",
       "5          1.0  "
      ]
     },
     "execution_count": 29,
     "metadata": {},
     "output_type": "execute_result"
    }
   ],
   "source": [
    "PipelineModel.load('tmp/final').transform(df).toPandas().set_index('id')[final_features]"
   ]
  },
  {
   "cell_type": "code",
   "execution_count": null,
   "metadata": {
    "collapsed": true
   },
   "outputs": [],
   "source": []
  }
 ],
 "metadata": {
  "kernelspec": {
   "display_name": "Python 2",
   "language": "python",
   "name": "python2"
  },
  "language_info": {
   "codemirror_mode": {
    "name": "ipython",
    "version": 2
   },
   "file_extension": ".py",
   "mimetype": "text/x-python",
   "name": "python",
   "nbconvert_exporter": "python",
   "pygments_lexer": "ipython2",
   "version": "2.7.13"
  }
 },
 "nbformat": 4,
 "nbformat_minor": 2
}
