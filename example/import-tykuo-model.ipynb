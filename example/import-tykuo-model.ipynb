{
 "cells": [
  {
   "cell_type": "markdown",
   "metadata": {},
   "source": [
    "# Setup"
   ]
  },
  {
   "cell_type": "code",
   "execution_count": 1,
   "metadata": {
    "collapsed": true
   },
   "outputs": [],
   "source": [
    "from __future__ import print_function\n",
    "from __future__ import division\n",
    "from __future__ import unicode_literals"
   ]
  },
  {
   "cell_type": "code",
   "execution_count": 2,
   "metadata": {
    "collapsed": true
   },
   "outputs": [],
   "source": [
    "import pyspark.sql.functions as F\n",
    "from pyspark.sql import Row"
   ]
  },
  {
   "cell_type": "code",
   "execution_count": 31,
   "metadata": {
    "collapsed": true
   },
   "outputs": [],
   "source": [
    "from pyspark.ml import Pipeline, PipelineModel\n",
    "from pyspark.ml.feature import Imputer, VectorAssembler, StandardScaler"
   ]
  },
  {
   "cell_type": "code",
   "execution_count": 4,
   "metadata": {},
   "outputs": [],
   "source": [
    "from tykuo_spark_model import StringDisassembler, ImputeCategoricalWithMode, VectorDisassembler"
   ]
  },
  {
   "cell_type": "markdown",
   "metadata": {},
   "source": [
    "# Sample Data"
   ]
  },
  {
   "cell_type": "code",
   "execution_count": 5,
   "metadata": {
    "collapsed": true
   },
   "outputs": [],
   "source": [
    "df = sc \\\n",
    "    .parallelize([\n",
    "        (1, 'a', 'A', 56., 175.), \n",
    "        (2, 'a', 'B', 66., None), \n",
    "        (3, 'b', 'B', None, 182.), \n",
    "        (4, 'c', None, 71., 171.), \n",
    "        (5, None, 'B', 48., 173.)]) \\\n",
    "    .toDF([\"id\", \"x1\", 'x2', 'x3', 'x4'])"
   ]
  },
  {
   "cell_type": "code",
   "execution_count": 6,
   "metadata": {},
   "outputs": [
    {
     "name": "stdout",
     "output_type": "stream",
     "text": [
      "+---+----+----+----+-----+\n",
      "| id|  x1|  x2|  x3|   x4|\n",
      "+---+----+----+----+-----+\n",
      "|  1|   a|   A|56.0|175.0|\n",
      "|  2|   a|   B|66.0| null|\n",
      "|  3|   b|   B|null|182.0|\n",
      "|  4|   c|null|71.0|171.0|\n",
      "|  5|null|   B|48.0|173.0|\n",
      "+---+----+----+----+-----+\n",
      "\n"
     ]
    }
   ],
   "source": [
    "df.show()"
   ]
  },
  {
   "cell_type": "markdown",
   "metadata": {},
   "source": [
    "# Data Processing Pipeline"
   ]
  },
  {
   "cell_type": "code",
   "execution_count": 7,
   "metadata": {},
   "outputs": [],
   "source": [
    "stage = [\n",
    "    # impute\n",
    "    ImputeCategoricalWithMode().setInputCols(['x1', 'x2']).setOutputCols(['x1_im', 'x2_im']),\n",
    "    Imputer(inputCols=['x3', 'x4'], outputCols=['x3_im', 'x4_im']).setStrategy('median'),\n",
    "    # Numeric \n",
    "     VectorAssembler(inputCols=['x3_im', 'x4_im'], outputCol='numericFeatures'),\n",
    "    StandardScaler(inputCol='numericFeatures', outputCol='scaledNumericFeatures'),\n",
    "    VectorDisassembler().setInputCol('scaledNumericFeatures').setOutputCols(['x3_scaled', 'x4_scaled']),\n",
    "    # Categorical\n",
    "    StringDisassembler().setInputCol('x1_im'),\n",
    "    StringDisassembler().setInputCol('x2_im'),\n",
    "]"
   ]
  },
  {
   "cell_type": "code",
   "execution_count": 8,
   "metadata": {},
   "outputs": [],
   "source": [
    "pipelineModel = Pipeline(stages=stage).fit(df)"
   ]
  },
  {
   "cell_type": "code",
   "execution_count": 9,
   "metadata": {
    "collapsed": true
   },
   "outputs": [],
   "source": [
    "df_with_features = pipelineModel.transform(df)"
   ]
  },
  {
   "cell_type": "code",
   "execution_count": 11,
   "metadata": {},
   "outputs": [
    {
     "name": "stdout",
     "output_type": "stream",
     "text": [
      "root\n",
      " |-- id: long (nullable = true)\n",
      " |-- x1: string (nullable = true)\n",
      " |-- x2: string (nullable = true)\n",
      " |-- x3: double (nullable = true)\n",
      " |-- x4: double (nullable = true)\n",
      " |-- x1_im: string (nullable = true)\n",
      " |-- x2_im: string (nullable = true)\n",
      " |-- x3_im: double (nullable = true)\n",
      " |-- x4_im: double (nullable = true)\n",
      " |-- numericFeatures: vector (nullable = true)\n",
      " |-- scaledNumericFeatures: vector (nullable = true)\n",
      " |-- x3_scaled: double (nullable = true)\n",
      " |-- x4_scaled: double (nullable = true)\n",
      " |-- is_x1_im_a: double (nullable = true)\n",
      " |-- is_x1_im_c: double (nullable = true)\n",
      " |-- is_x1_im_b: double (nullable = true)\n",
      " |-- is_x2_im_A: double (nullable = true)\n",
      " |-- is_x2_im_B: double (nullable = true)\n",
      "\n"
     ]
    }
   ],
   "source": [
    "df_with_features.printSchema()"
   ]
  },
  {
   "cell_type": "code",
   "execution_count": 23,
   "metadata": {},
   "outputs": [
    {
     "data": {
      "text/html": [
       "<div>\n",
       "<style>\n",
       "    .dataframe thead tr:only-child th {\n",
       "        text-align: right;\n",
       "    }\n",
       "\n",
       "    .dataframe thead th {\n",
       "        text-align: left;\n",
       "    }\n",
       "\n",
       "    .dataframe tbody tr th {\n",
       "        vertical-align: top;\n",
       "    }\n",
       "</style>\n",
       "<table border=\"1\" class=\"dataframe\">\n",
       "  <thead>\n",
       "    <tr style=\"text-align: right;\">\n",
       "      <th></th>\n",
       "      <th>x1</th>\n",
       "      <th>x2</th>\n",
       "      <th>x3</th>\n",
       "      <th>x4</th>\n",
       "      <th>x1_im</th>\n",
       "      <th>x2_im</th>\n",
       "      <th>x3_im</th>\n",
       "      <th>x4_im</th>\n",
       "      <th>numericFeatures</th>\n",
       "      <th>scaledNumericFeatures</th>\n",
       "      <th>x3_scaled</th>\n",
       "      <th>x4_scaled</th>\n",
       "      <th>is_x1_im_a</th>\n",
       "      <th>is_x1_im_c</th>\n",
       "      <th>is_x1_im_b</th>\n",
       "      <th>is_x2_im_A</th>\n",
       "      <th>is_x2_im_B</th>\n",
       "    </tr>\n",
       "    <tr>\n",
       "      <th>id</th>\n",
       "      <th></th>\n",
       "      <th></th>\n",
       "      <th></th>\n",
       "      <th></th>\n",
       "      <th></th>\n",
       "      <th></th>\n",
       "      <th></th>\n",
       "      <th></th>\n",
       "      <th></th>\n",
       "      <th></th>\n",
       "      <th></th>\n",
       "      <th></th>\n",
       "      <th></th>\n",
       "      <th></th>\n",
       "      <th></th>\n",
       "      <th></th>\n",
       "      <th></th>\n",
       "    </tr>\n",
       "  </thead>\n",
       "  <tbody>\n",
       "    <tr>\n",
       "      <th>1</th>\n",
       "      <td>a</td>\n",
       "      <td>A</td>\n",
       "      <td>56.0</td>\n",
       "      <td>175.0</td>\n",
       "      <td>a</td>\n",
       "      <td>A</td>\n",
       "      <td>56.0</td>\n",
       "      <td>175.0</td>\n",
       "      <td>[56.0, 175.0]</td>\n",
       "      <td>[6.15421775169, 41.0206327071]</td>\n",
       "      <td>6.154218</td>\n",
       "      <td>41.020633</td>\n",
       "      <td>1.0</td>\n",
       "      <td>0.0</td>\n",
       "      <td>0.0</td>\n",
       "      <td>1.0</td>\n",
       "      <td>0.0</td>\n",
       "    </tr>\n",
       "    <tr>\n",
       "      <th>2</th>\n",
       "      <td>a</td>\n",
       "      <td>B</td>\n",
       "      <td>66.0</td>\n",
       "      <td>NaN</td>\n",
       "      <td>a</td>\n",
       "      <td>B</td>\n",
       "      <td>66.0</td>\n",
       "      <td>173.0</td>\n",
       "      <td>[66.0, 173.0]</td>\n",
       "      <td>[7.25318520735, 40.5518254762]</td>\n",
       "      <td>7.253185</td>\n",
       "      <td>40.551825</td>\n",
       "      <td>1.0</td>\n",
       "      <td>0.0</td>\n",
       "      <td>0.0</td>\n",
       "      <td>0.0</td>\n",
       "      <td>1.0</td>\n",
       "    </tr>\n",
       "    <tr>\n",
       "      <th>3</th>\n",
       "      <td>b</td>\n",
       "      <td>B</td>\n",
       "      <td>NaN</td>\n",
       "      <td>182.0</td>\n",
       "      <td>b</td>\n",
       "      <td>B</td>\n",
       "      <td>56.0</td>\n",
       "      <td>182.0</td>\n",
       "      <td>[56.0, 182.0]</td>\n",
       "      <td>[6.15421775169, 42.6614580154]</td>\n",
       "      <td>6.154218</td>\n",
       "      <td>42.661458</td>\n",
       "      <td>0.0</td>\n",
       "      <td>0.0</td>\n",
       "      <td>1.0</td>\n",
       "      <td>0.0</td>\n",
       "      <td>1.0</td>\n",
       "    </tr>\n",
       "    <tr>\n",
       "      <th>4</th>\n",
       "      <td>c</td>\n",
       "      <td>None</td>\n",
       "      <td>71.0</td>\n",
       "      <td>171.0</td>\n",
       "      <td>c</td>\n",
       "      <td>B</td>\n",
       "      <td>71.0</td>\n",
       "      <td>171.0</td>\n",
       "      <td>[71.0, 171.0]</td>\n",
       "      <td>[7.80266893518, 40.0830182452]</td>\n",
       "      <td>7.802669</td>\n",
       "      <td>40.083018</td>\n",
       "      <td>0.0</td>\n",
       "      <td>1.0</td>\n",
       "      <td>0.0</td>\n",
       "      <td>0.0</td>\n",
       "      <td>1.0</td>\n",
       "    </tr>\n",
       "    <tr>\n",
       "      <th>5</th>\n",
       "      <td>None</td>\n",
       "      <td>B</td>\n",
       "      <td>48.0</td>\n",
       "      <td>173.0</td>\n",
       "      <td>a</td>\n",
       "      <td>B</td>\n",
       "      <td>48.0</td>\n",
       "      <td>173.0</td>\n",
       "      <td>[48.0, 173.0]</td>\n",
       "      <td>[5.27504378717, 40.5518254762]</td>\n",
       "      <td>5.275044</td>\n",
       "      <td>40.551825</td>\n",
       "      <td>1.0</td>\n",
       "      <td>0.0</td>\n",
       "      <td>0.0</td>\n",
       "      <td>0.0</td>\n",
       "      <td>1.0</td>\n",
       "    </tr>\n",
       "  </tbody>\n",
       "</table>\n",
       "</div>"
      ],
      "text/plain": [
       "      x1    x2    x3     x4 x1_im x2_im  x3_im  x4_im numericFeatures  \\\n",
       "id                                                                      \n",
       "1      a     A  56.0  175.0     a     A   56.0  175.0   [56.0, 175.0]   \n",
       "2      a     B  66.0    NaN     a     B   66.0  173.0   [66.0, 173.0]   \n",
       "3      b     B   NaN  182.0     b     B   56.0  182.0   [56.0, 182.0]   \n",
       "4      c  None  71.0  171.0     c     B   71.0  171.0   [71.0, 171.0]   \n",
       "5   None     B  48.0  173.0     a     B   48.0  173.0   [48.0, 173.0]   \n",
       "\n",
       "             scaledNumericFeatures  x3_scaled  x4_scaled  is_x1_im_a  \\\n",
       "id                                                                     \n",
       "1   [6.15421775169, 41.0206327071]   6.154218  41.020633         1.0   \n",
       "2   [7.25318520735, 40.5518254762]   7.253185  40.551825         1.0   \n",
       "3   [6.15421775169, 42.6614580154]   6.154218  42.661458         0.0   \n",
       "4   [7.80266893518, 40.0830182452]   7.802669  40.083018         0.0   \n",
       "5   [5.27504378717, 40.5518254762]   5.275044  40.551825         1.0   \n",
       "\n",
       "    is_x1_im_c  is_x1_im_b  is_x2_im_A  is_x2_im_B  \n",
       "id                                                  \n",
       "1          0.0         0.0         1.0         0.0  \n",
       "2          0.0         0.0         0.0         1.0  \n",
       "3          0.0         1.0         0.0         1.0  \n",
       "4          1.0         0.0         0.0         1.0  \n",
       "5          0.0         0.0         0.0         1.0  "
      ]
     },
     "execution_count": 23,
     "metadata": {},
     "output_type": "execute_result"
    }
   ],
   "source": [
    "df_with_features_pd = df_with_features.toPandas().set_index('id')\n",
    "df_with_features_pd"
   ]
  },
  {
   "cell_type": "code",
   "execution_count": 27,
   "metadata": {
    "collapsed": true
   },
   "outputs": [],
   "source": [
    "final_features = ['x3_scaled', 'x4_scaled', 'is_x1_im_a', 'is_x1_im_c', 'is_x1_im_b', 'is_x2_im_A', 'is_x2_im_B']"
   ]
  },
  {
   "cell_type": "code",
   "execution_count": 29,
   "metadata": {},
   "outputs": [
    {
     "data": {
      "text/html": [
       "<div>\n",
       "<style>\n",
       "    .dataframe thead tr:only-child th {\n",
       "        text-align: right;\n",
       "    }\n",
       "\n",
       "    .dataframe thead th {\n",
       "        text-align: left;\n",
       "    }\n",
       "\n",
       "    .dataframe tbody tr th {\n",
       "        vertical-align: top;\n",
       "    }\n",
       "</style>\n",
       "<table border=\"1\" class=\"dataframe\">\n",
       "  <thead>\n",
       "    <tr style=\"text-align: right;\">\n",
       "      <th></th>\n",
       "      <th>x3_scaled</th>\n",
       "      <th>x4_scaled</th>\n",
       "      <th>is_x1_im_a</th>\n",
       "      <th>is_x1_im_c</th>\n",
       "      <th>is_x1_im_b</th>\n",
       "      <th>is_x2_im_A</th>\n",
       "      <th>is_x2_im_B</th>\n",
       "    </tr>\n",
       "    <tr>\n",
       "      <th>id</th>\n",
       "      <th></th>\n",
       "      <th></th>\n",
       "      <th></th>\n",
       "      <th></th>\n",
       "      <th></th>\n",
       "      <th></th>\n",
       "      <th></th>\n",
       "    </tr>\n",
       "  </thead>\n",
       "  <tbody>\n",
       "    <tr>\n",
       "      <th>1</th>\n",
       "      <td>6.154218</td>\n",
       "      <td>41.020633</td>\n",
       "      <td>1.0</td>\n",
       "      <td>0.0</td>\n",
       "      <td>0.0</td>\n",
       "      <td>1.0</td>\n",
       "      <td>0.0</td>\n",
       "    </tr>\n",
       "    <tr>\n",
       "      <th>2</th>\n",
       "      <td>7.253185</td>\n",
       "      <td>40.551825</td>\n",
       "      <td>1.0</td>\n",
       "      <td>0.0</td>\n",
       "      <td>0.0</td>\n",
       "      <td>0.0</td>\n",
       "      <td>1.0</td>\n",
       "    </tr>\n",
       "    <tr>\n",
       "      <th>3</th>\n",
       "      <td>6.154218</td>\n",
       "      <td>42.661458</td>\n",
       "      <td>0.0</td>\n",
       "      <td>0.0</td>\n",
       "      <td>1.0</td>\n",
       "      <td>0.0</td>\n",
       "      <td>1.0</td>\n",
       "    </tr>\n",
       "    <tr>\n",
       "      <th>4</th>\n",
       "      <td>7.802669</td>\n",
       "      <td>40.083018</td>\n",
       "      <td>0.0</td>\n",
       "      <td>1.0</td>\n",
       "      <td>0.0</td>\n",
       "      <td>0.0</td>\n",
       "      <td>1.0</td>\n",
       "    </tr>\n",
       "    <tr>\n",
       "      <th>5</th>\n",
       "      <td>5.275044</td>\n",
       "      <td>40.551825</td>\n",
       "      <td>1.0</td>\n",
       "      <td>0.0</td>\n",
       "      <td>0.0</td>\n",
       "      <td>0.0</td>\n",
       "      <td>1.0</td>\n",
       "    </tr>\n",
       "  </tbody>\n",
       "</table>\n",
       "</div>"
      ],
      "text/plain": [
       "    x3_scaled  x4_scaled  is_x1_im_a  is_x1_im_c  is_x1_im_b  is_x2_im_A  \\\n",
       "id                                                                         \n",
       "1    6.154218  41.020633         1.0         0.0         0.0         1.0   \n",
       "2    7.253185  40.551825         1.0         0.0         0.0         0.0   \n",
       "3    6.154218  42.661458         0.0         0.0         1.0         0.0   \n",
       "4    7.802669  40.083018         0.0         1.0         0.0         0.0   \n",
       "5    5.275044  40.551825         1.0         0.0         0.0         0.0   \n",
       "\n",
       "    is_x2_im_B  \n",
       "id              \n",
       "1          0.0  \n",
       "2          1.0  \n",
       "3          1.0  \n",
       "4          1.0  \n",
       "5          1.0  "
      ]
     },
     "execution_count": 29,
     "metadata": {},
     "output_type": "execute_result"
    }
   ],
   "source": [
    "df_with_features_pd[final_features]"
   ]
  },
  {
   "cell_type": "markdown",
   "metadata": {},
   "source": [
    "# Pipeline IO"
   ]
  },
  {
   "cell_type": "code",
   "execution_count": 30,
   "metadata": {
    "collapsed": true
   },
   "outputs": [],
   "source": [
    "pipelineModel.save('tmp/final')"
   ]
  },
  {
   "cell_type": "code",
   "execution_count": null,
   "metadata": {
    "collapsed": true
   },
   "outputs": [],
   "source": [
    "PipelineModel"
   ]
  }
 ],
 "metadata": {
  "kernelspec": {
   "display_name": "Python 2",
   "language": "python",
   "name": "python2"
  },
  "language_info": {
   "codemirror_mode": {
    "name": "ipython",
    "version": 2
   },
   "file_extension": ".py",
   "mimetype": "text/x-python",
   "name": "python",
   "nbconvert_exporter": "python",
   "pygments_lexer": "ipython2",
   "version": "2.7.13"
  }
 },
 "nbformat": 4,
 "nbformat_minor": 2
}
