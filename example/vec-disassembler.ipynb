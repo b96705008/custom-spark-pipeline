{
 "cells": [
  {
   "cell_type": "markdown",
   "metadata": {},
   "source": [
    "# Setup "
   ]
  },
  {
   "cell_type": "code",
   "execution_count": 1,
   "metadata": {
    "collapsed": true
   },
   "outputs": [],
   "source": [
    "from __future__ import print_function\n",
    "from __future__ import division\n",
    "from __future__ import unicode_literals"
   ]
  },
  {
   "cell_type": "code",
   "execution_count": 20,
   "metadata": {
    "collapsed": true
   },
   "outputs": [],
   "source": [
    "import numpy as np\n",
    "import pandas as pd\n",
    "import random\n",
    "import functools"
   ]
  },
  {
   "cell_type": "code",
   "execution_count": 3,
   "metadata": {
    "collapsed": true
   },
   "outputs": [],
   "source": [
    "import pyspark.sql.functions as F\n",
    "from pyspark.sql import Row"
   ]
  },
  {
   "cell_type": "code",
   "execution_count": 4,
   "metadata": {
    "collapsed": true
   },
   "outputs": [],
   "source": [
    "from pyspark.ml.feature import VectorAssembler, StandardScaler\n",
    "from pyspark.ml.pipeline import Pipeline"
   ]
  },
  {
   "cell_type": "code",
   "execution_count": 5,
   "metadata": {},
   "outputs": [
    {
     "name": "stdout",
     "output_type": "stream",
     "text": [
      "+---+------------------+------------------+\n",
      "| id|            weight|            height|\n",
      "+---+------------------+------------------+\n",
      "|  0|24.862496971660626|169.77471325769076|\n",
      "|  1| 55.80551688815535|109.85509994731584|\n",
      "|  2| 79.89623842556591|223.65330592276075|\n",
      "|  3| 46.51574257351342|153.25551918704497|\n",
      "|  4| 67.33359143317264|217.56658688765393|\n",
      "|  5|34.950155924038555| 147.7942978656798|\n",
      "|  6| 26.75763950912918|131.72153831365569|\n",
      "|  7| 37.88466518272371|121.21302088408152|\n",
      "|  8| 67.14547809537832|157.23391964988303|\n",
      "|  9| 61.84796317335014|170.36848445078232|\n",
      "| 10|  64.7433707910027|  137.474025005728|\n",
      "| 11| 68.24412909395267|143.45330845636215|\n",
      "| 12| 56.36909080787042| 167.0939978322262|\n",
      "| 13|42.624468669977276|253.95564119099015|\n",
      "| 14| 62.36030264447476| 164.2979476390597|\n",
      "| 15|45.150395656233194|134.46706820513793|\n",
      "| 16|53.834811394131904|231.46209828078543|\n",
      "| 17|27.306832754873753|153.03802937001228|\n",
      "| 18| 70.25860844015696| 150.5187264620797|\n",
      "| 19|11.120871201509068|138.21369137700472|\n",
      "+---+------------------+------------------+\n",
      "only showing top 20 rows\n",
      "\n"
     ]
    }
   ],
   "source": [
    "DATA_NUM = 100\n",
    "sample_data = zip(\n",
    "    range(DATA_NUM), \n",
    "    map(lambda d: float(d), np.random.normal(loc=50, scale=15, size=DATA_NUM)),\n",
    "    map(lambda d: float(d), np.random.normal(loc=160, scale=30, size=DATA_NUM)))\n",
    "\n",
    "df = sc.parallelize(sample_data).toDF(['id', 'weight', 'height'])\n",
    "df.show()"
   ]
  },
  {
   "cell_type": "code",
   "execution_count": 6,
   "metadata": {
    "collapsed": true
   },
   "outputs": [],
   "source": [
    "features = ['weight', 'height']"
   ]
  },
  {
   "cell_type": "markdown",
   "metadata": {},
   "source": [
    "# Vector Assembler"
   ]
  },
  {
   "cell_type": "code",
   "execution_count": 7,
   "metadata": {
    "collapsed": true
   },
   "outputs": [],
   "source": [
    "pipeline = Pipeline(stages=[\n",
    "    VectorAssembler(inputCols=features, outputCol='features'),\n",
    "    StandardScaler(inputCol='features', outputCol='scaledFeatures')\n",
    "])"
   ]
  },
  {
   "cell_type": "code",
   "execution_count": 8,
   "metadata": {
    "collapsed": true
   },
   "outputs": [],
   "source": [
    "pipelineModel = pipeline.fit(df)"
   ]
  },
  {
   "cell_type": "code",
   "execution_count": 9,
   "metadata": {},
   "outputs": [
    {
     "name": "stdout",
     "output_type": "stream",
     "text": [
      "+---+---------------------------------------+--------------------------------------+\n",
      "|id |features                               |scaledFeatures                        |\n",
      "+---+---------------------------------------+--------------------------------------+\n",
      "|0  |[24.862496971660626,169.77471325769076]|[1.6075393273534673,5.005036860183438]|\n",
      "|1  |[55.80551688815535,109.85509994731584] |[3.608228215502761,3.2385790201918914]|\n",
      "|2  |[79.89623842556591,223.65330592276075] |[5.165866707720625,6.593402624961242] |\n",
      "|3  |[46.51574257351342,153.25551918704497] |[3.007577461475638,4.518043399039362] |\n",
      "|4  |[67.33359143317264,217.56658688765393] |[4.353601185116437,6.413963340136475] |\n",
      "+---+---------------------------------------+--------------------------------------+\n",
      "only showing top 5 rows\n",
      "\n"
     ]
    }
   ],
   "source": [
    "dataset = pipelineModel.transform(df)\n",
    "dataset.select('id', 'features', 'scaledFeatures').show(5, truncate=False)"
   ]
  },
  {
   "cell_type": "markdown",
   "metadata": {},
   "source": [
    "# Vector Dessembler"
   ]
  },
  {
   "cell_type": "code",
   "execution_count": 10,
   "metadata": {
    "collapsed": true
   },
   "outputs": [],
   "source": [
    "sample_row = dataset.take(1)[0]"
   ]
  },
  {
   "cell_type": "code",
   "execution_count": 11,
   "metadata": {},
   "outputs": [
    {
     "data": {
      "text/plain": [
       "DenseVector([1.6075, 5.005])"
      ]
     },
     "execution_count": 11,
     "metadata": {},
     "output_type": "execute_result"
    }
   ],
   "source": [
    "sample_vec = sample_row['scaledFeatures']\n",
    "sample_vec"
   ]
  },
  {
   "cell_type": "code",
   "execution_count": 12,
   "metadata": {},
   "outputs": [
    {
     "data": {
      "text/plain": [
       "numpy.float64"
      ]
     },
     "execution_count": 12,
     "metadata": {},
     "output_type": "execute_result"
    }
   ],
   "source": [
    "type(sample_vec[0])"
   ]
  },
  {
   "cell_type": "code",
   "execution_count": 13,
   "metadata": {
    "collapsed": true
   },
   "outputs": [],
   "source": [
    "def disassemble_vector_from_row(row, vec_col, col_names):\n",
    "    vector = row[vec_col]\n",
    "    values = map(lambda v: float(v), vector)\n",
    "    vec_value_dict = dict(zip(col_names, values))\n",
    "    row_dict = row.asDict()\n",
    "    row_dict.update(vec_value_dict)\n",
    "    return Row(**row_dict)"
   ]
  },
  {
   "cell_type": "code",
   "execution_count": 14,
   "metadata": {},
   "outputs": [
    {
     "data": {
      "text/plain": [
       "Row(features=DenseVector([24.8625, 169.7747]), height=169.77471325769076, id=0, scaledFeatures=DenseVector([1.6075, 5.005]), scaled_height=5.005036860183438, scaled_weight=1.6075393273534673, weight=24.862496971660626)"
      ]
     },
     "execution_count": 14,
     "metadata": {},
     "output_type": "execute_result"
    }
   ],
   "source": [
    "new_cols = map(lambda f: 'scaled_{}'.format(f), features)\n",
    "disassemble_vector_from_row(sample_row, 'scaledFeatures', new_cols)"
   ]
  },
  {
   "cell_type": "code",
   "execution_count": 15,
   "metadata": {
    "collapsed": true
   },
   "outputs": [],
   "source": [
    "vec_dis_df = dataset.rdd \\\n",
    "    .map(lambda r: disassemble_vector_from_row(r, 'scaledFeatures', new_cols)) \\\n",
    "    .toDF() \\\n",
    "    .select(dataset.columns + new_cols)"
   ]
  },
  {
   "cell_type": "code",
   "execution_count": 16,
   "metadata": {},
   "outputs": [
    {
     "name": "stdout",
     "output_type": "stream",
     "text": [
      "+---+------------------+------------------+---------------------------------------+--------------------------------------+------------------+------------------+\n",
      "|id |weight            |height            |features                               |scaledFeatures                        |scaled_weight     |scaled_height     |\n",
      "+---+------------------+------------------+---------------------------------------+--------------------------------------+------------------+------------------+\n",
      "|0  |24.862496971660626|169.77471325769076|[24.862496971660626,169.77471325769076]|[1.6075393273534673,5.005036860183438]|1.6075393273534673|5.005036860183438 |\n",
      "|1  |55.80551688815535 |109.85509994731584|[55.80551688815535,109.85509994731584] |[3.608228215502761,3.2385790201918914]|3.608228215502761 |3.2385790201918914|\n",
      "|2  |79.89623842556591 |223.65330592276075|[79.89623842556591,223.65330592276075] |[5.165866707720625,6.593402624961242] |5.165866707720625 |6.593402624961242 |\n",
      "|3  |46.51574257351342 |153.25551918704497|[46.51574257351342,153.25551918704497] |[3.007577461475638,4.518043399039362] |3.007577461475638 |4.518043399039362 |\n",
      "|4  |67.33359143317264 |217.56658688765393|[67.33359143317264,217.56658688765393] |[4.353601185116437,6.413963340136475] |4.353601185116437 |6.413963340136475 |\n",
      "+---+------------------+------------------+---------------------------------------+--------------------------------------+------------------+------------------+\n",
      "only showing top 5 rows\n",
      "\n"
     ]
    }
   ],
   "source": [
    "vec_dis_df.show(5, truncate=False)"
   ]
  },
  {
   "cell_type": "markdown",
   "metadata": {
    "collapsed": true
   },
   "source": [
    "# Custom Estimator"
   ]
  },
  {
   "cell_type": "code",
   "execution_count": 22,
   "metadata": {
    "collapsed": true
   },
   "outputs": [],
   "source": [
    "from pyspark import keyword_only\n",
    "from pyspark.ml.pipeline import Pipeline, PipelineModel, Transformer\n",
    "from pyspark.ml.param.shared import *\n",
    "from pyspark.ml.util import DefaultParamsReadable, DefaultParamsWritable"
   ]
  },
  {
   "cell_type": "code",
   "execution_count": 49,
   "metadata": {
    "collapsed": true
   },
   "outputs": [],
   "source": [
    "class VectorDisassembler(Transformer, HasInputCol, HasOutputCols, DefaultParamsReadable, DefaultParamsWritable):\n",
    "    \n",
    "    def get_ordered_columns(self, cols):\n",
    "        ys = self.getOutputCols()\n",
    "        return cols + [y for y in ys if y not in cols]\n",
    "    \n",
    "    @staticmethod\n",
    "    def disassemble(vec_col, output_cols, row):\n",
    "        vector = row[vec_col]\n",
    "        values = map(lambda v: float(v), vector)\n",
    "        vec_value_dict = dict(zip(output_cols, values))\n",
    "        row_dict = row.asDict()\n",
    "        row_dict.update(vec_value_dict)\n",
    "        return Row(**row_dict)\n",
    "    \n",
    "    def _transform(self, dataset):\n",
    "        x = self.getInputCol()\n",
    "        ys = self.getOutputCols()\n",
    "        disamb_func = functools.partial(self.disassemble, x, ys)\n",
    "        final_cols = self.get_ordered_columns(dataset.columns)\n",
    "        print(final_cols)\n",
    "        return dataset.rdd \\\n",
    "            .map(disamb_func) \\\n",
    "            .toDF() \\\n",
    "            .select(final_cols)"
   ]
  },
  {
   "cell_type": "code",
   "execution_count": 39,
   "metadata": {},
   "outputs": [
    {
     "data": {
      "text/plain": [
       "[u'scaled_weight', u'scaled_height']"
      ]
     },
     "execution_count": 39,
     "metadata": {},
     "output_type": "execute_result"
    }
   ],
   "source": [
    "new_cols"
   ]
  },
  {
   "cell_type": "code",
   "execution_count": 41,
   "metadata": {},
   "outputs": [
    {
     "name": "stdout",
     "output_type": "stream",
     "text": [
      "['id', 'weight', 'height', 'features', 'scaledFeatures', u'scaled_weight', u'scaled_height']\n",
      "+---+------------------+------------------+--------------------+--------------------+------------------+------------------+\n",
      "| id|            weight|            height|            features|      scaledFeatures|     scaled_weight|     scaled_height|\n",
      "+---+------------------+------------------+--------------------+--------------------+------------------+------------------+\n",
      "|  0|24.862496971660626|169.77471325769076|[24.8624969716606...|[1.60753932735346...|1.6075393273534673| 5.005036860183438|\n",
      "|  1| 55.80551688815535|109.85509994731584|[55.8055168881553...|[3.60822821550276...| 3.608228215502761|3.2385790201918914|\n",
      "|  2| 79.89623842556591|223.65330592276075|[79.8962384255659...|[5.16586670772062...| 5.165866707720625| 6.593402624961242|\n",
      "|  3| 46.51574257351342|153.25551918704497|[46.5157425735134...|[3.00757746147563...| 3.007577461475638| 4.518043399039362|\n",
      "|  4| 67.33359143317264|217.56658688765393|[67.3335914331726...|[4.35360118511643...| 4.353601185116437| 6.413963340136475|\n",
      "|  5|34.950155924038555| 147.7942978656798|[34.9501559240385...|[2.25977906439037...|2.2597790643903735| 4.357044075344058|\n",
      "|  6| 26.75763950912918|131.72153831365569|[26.7576395091291...|[1.73007392890188...|1.7300739289018836| 3.883211709739388|\n",
      "|  7| 37.88466518272371|121.21302088408152|[37.8846651827237...|[2.44951620323030...| 2.449516203230301|3.5734157685672345|\n",
      "|  8| 67.14547809537832|157.23391964988303|[67.1454780953783...|[4.34143830425822...|4.3414383042582205|  4.63532847983259|\n",
      "|  9| 61.84796317335014|170.36848445078232|[61.8479631733501...|[3.99891584627224...| 3.998915846272242| 5.022541508849389|\n",
      "| 10|  64.7433707910027|  137.474025005728|[64.7433707910027...|[4.18612478266349...|4.1861247826634935| 4.052797670917458|\n",
      "| 11| 68.24412909395267|143.45330845636215|[68.2441290939526...|[4.41247399666102...|  4.41247399666102| 4.229069705154294|\n",
      "| 12| 56.36909080787042| 167.0939978322262|[56.3690908078704...|[3.64466732460935...|3.6446673246093555| 4.926008132885589|\n",
      "| 13|42.624468669977276|253.95564119099015|[42.6244686699772...|[2.75597860394460...|2.7559786039446044| 7.486729446470418|\n",
      "| 14| 62.36030264447476| 164.2979476390597|[62.3603026444747...|[4.03204227961990...| 4.032042279619909| 4.843579283434492|\n",
      "| 15|45.150395656233194|134.46706820513793|[45.1503956562331...|[2.91929795891760...|2.9192979589176056|3.9641511973929275|\n",
      "| 16|53.834811394131904|231.46209828078543|[53.8348113941319...|[3.48080792509969...| 3.480807925099699| 6.823609425700231|\n",
      "| 17|27.306832754873753|153.03802937001228|[27.3068327548737...|[1.76558322396012...|1.7655832239601237| 4.511631698909962|\n",
      "| 18| 70.25860844015696| 150.5187264620797|[70.2586084401569...|[4.54272458158239...|4.5427245815823944| 4.437361487085006|\n",
      "| 19|11.120871201509068|138.21369137700472|[11.1208712015090...|[0.71904434342357...|0.7190443434235789| 4.074603376734548|\n",
      "+---+------------------+------------------+--------------------+--------------------+------------------+------------------+\n",
      "only showing top 20 rows\n",
      "\n"
     ]
    }
   ],
   "source": [
    "VectorDisassembler() \\\n",
    "    .setInputCol('scaledFeatures') \\\n",
    "    .setOutputCols(new_cols) \\\n",
    "    .transform(dataset).show()"
   ]
  },
  {
   "cell_type": "markdown",
   "metadata": {},
   "source": [
    "# Put All Together"
   ]
  },
  {
   "cell_type": "code",
   "execution_count": 50,
   "metadata": {},
   "outputs": [
    {
     "data": {
      "text/plain": [
       "([u'weight', u'height'], [u'scaled_weight', u'scaled_height'])"
      ]
     },
     "execution_count": 50,
     "metadata": {},
     "output_type": "execute_result"
    }
   ],
   "source": [
    "features, new_cols"
   ]
  },
  {
   "cell_type": "code",
   "execution_count": 51,
   "metadata": {
    "collapsed": true
   },
   "outputs": [],
   "source": [
    "pipeline = Pipeline(stages=[\n",
    "    VectorAssembler(inputCols=features, outputCol='features'),\n",
    "    StandardScaler(inputCol='features', outputCol='scaledFeatures'),\n",
    "    VectorDisassembler().setInputCol('scaledFeatures').setOutputCols(new_cols)\n",
    "])"
   ]
  },
  {
   "cell_type": "code",
   "execution_count": 52,
   "metadata": {
    "collapsed": true
   },
   "outputs": [],
   "source": [
    "pipelineModel = pipeline.fit(df)"
   ]
  },
  {
   "cell_type": "code",
   "execution_count": 53,
   "metadata": {},
   "outputs": [
    {
     "name": "stdout",
     "output_type": "stream",
     "text": [
      "['id', 'weight', 'height', 'features', 'scaledFeatures', u'scaled_weight', u'scaled_height']\n",
      "+---+------------------+------------------+--------------------+--------------------+------------------+------------------+\n",
      "| id|            weight|            height|            features|      scaledFeatures|     scaled_weight|     scaled_height|\n",
      "+---+------------------+------------------+--------------------+--------------------+------------------+------------------+\n",
      "|  0|24.862496971660626|169.77471325769076|[24.8624969716606...|[1.60753932735346...|1.6075393273534673| 5.005036860183438|\n",
      "|  1| 55.80551688815535|109.85509994731584|[55.8055168881553...|[3.60822821550276...| 3.608228215502761|3.2385790201918914|\n",
      "|  2| 79.89623842556591|223.65330592276075|[79.8962384255659...|[5.16586670772062...| 5.165866707720625| 6.593402624961242|\n",
      "|  3| 46.51574257351342|153.25551918704497|[46.5157425735134...|[3.00757746147563...| 3.007577461475638| 4.518043399039362|\n",
      "|  4| 67.33359143317264|217.56658688765393|[67.3335914331726...|[4.35360118511643...| 4.353601185116437| 6.413963340136475|\n",
      "+---+------------------+------------------+--------------------+--------------------+------------------+------------------+\n",
      "only showing top 5 rows\n",
      "\n"
     ]
    }
   ],
   "source": [
    "pipelineModel.transform(df).show(5)"
   ]
  },
  {
   "cell_type": "code",
   "execution_count": 54,
   "metadata": {
    "collapsed": true
   },
   "outputs": [],
   "source": [
    "pipelineModel.save('tmp/vec_disassembe_pipeline')"
   ]
  },
  {
   "cell_type": "code",
   "execution_count": 55,
   "metadata": {
    "collapsed": true
   },
   "outputs": [],
   "source": [
    "loadedModel = PipelineModel.load('tmp/vec_disassembe_pipeline')"
   ]
  },
  {
   "cell_type": "code",
   "execution_count": 56,
   "metadata": {},
   "outputs": [
    {
     "name": "stdout",
     "output_type": "stream",
     "text": [
      "['id', 'weight', 'height', 'features', 'scaledFeatures', u'scaled_weight', u'scaled_height']\n",
      "+---+------------------+------------------+--------------------+--------------------+------------------+------------------+\n",
      "| id|            weight|            height|            features|      scaledFeatures|     scaled_weight|     scaled_height|\n",
      "+---+------------------+------------------+--------------------+--------------------+------------------+------------------+\n",
      "|  0|24.862496971660626|169.77471325769076|[24.8624969716606...|[1.60753932735346...|1.6075393273534673| 5.005036860183438|\n",
      "|  1| 55.80551688815535|109.85509994731584|[55.8055168881553...|[3.60822821550276...| 3.608228215502761|3.2385790201918914|\n",
      "|  2| 79.89623842556591|223.65330592276075|[79.8962384255659...|[5.16586670772062...| 5.165866707720625| 6.593402624961242|\n",
      "|  3| 46.51574257351342|153.25551918704497|[46.5157425735134...|[3.00757746147563...| 3.007577461475638| 4.518043399039362|\n",
      "|  4| 67.33359143317264|217.56658688765393|[67.3335914331726...|[4.35360118511643...| 4.353601185116437| 6.413963340136475|\n",
      "+---+------------------+------------------+--------------------+--------------------+------------------+------------------+\n",
      "only showing top 5 rows\n",
      "\n"
     ]
    }
   ],
   "source": [
    "loadedModel.transform(df).show(5)"
   ]
  },
  {
   "cell_type": "code",
   "execution_count": null,
   "metadata": {
    "collapsed": true
   },
   "outputs": [],
   "source": []
  }
 ],
 "metadata": {
  "kernelspec": {
   "display_name": "Python 2",
   "language": "python",
   "name": "python2"
  },
  "language_info": {
   "codemirror_mode": {
    "name": "ipython",
    "version": 2
   },
   "file_extension": ".py",
   "mimetype": "text/x-python",
   "name": "python",
   "nbconvert_exporter": "python",
   "pygments_lexer": "ipython2",
   "version": "2.7.13"
  }
 },
 "nbformat": 4,
 "nbformat_minor": 2
}
